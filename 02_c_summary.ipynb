{
 "cells": [
  {
   "cell_type": "code",
   "execution_count": null,
   "id": "799a4f52",
   "metadata": {},
   "outputs": [],
   "source": [
    "show_df(c_summary.head(30))"
   ]
  },
  {
   "cell_type": "code",
   "execution_count": null,
   "id": "37a49458",
   "metadata": {},
   "outputs": [],
   "source": [
    "c_summary.columns"
   ]
  },
  {
   "cell_type": "code",
   "execution_count": null,
   "id": "ac233797",
   "metadata": {},
   "outputs": [],
   "source": [
    "#Look at any FOD_ID that shows up more than once.\n",
    "duplicated_ids = c_summary[c_summary.duplicated('FOD_ID', keep=False)]\n",
    "\n",
    "# Display all rows with duplicated FOD_IDs\n",
    "show_df(duplicated_ids)"
   ]
  },
  {
   "cell_type": "code",
   "execution_count": null,
   "id": "a51853f7",
   "metadata": {},
   "outputs": [],
   "source": [
    "duplicated_ids[\"FOD_ID\"].value_counts()"
   ]
  },
  {
   "cell_type": "code",
   "execution_count": null,
   "id": "7ac62f2f",
   "metadata": {},
   "outputs": [],
   "source": [
    "c_summary['FOD_ID'].isna().sum()"
   ]
  },
  {
   "cell_type": "code",
   "execution_count": null,
   "id": "f1b58f1f",
   "metadata": {},
   "outputs": [],
   "source": [
    "#FOCUS HERE. FOD_ID duplications mean a fire was classified in multiple complexes\n",
    "c_summary['FOD_ID'].value_counts()"
   ]
  },
  {
   "cell_type": "code",
   "execution_count": null,
   "id": "ae7b3fe2",
   "metadata": {},
   "outputs": [],
   "source": [
    "id1 = c_summary[c_summary[\"FOD_ID\"]==400629554.0]\n",
    "show_df(id1)"
   ]
  },
  {
   "cell_type": "markdown",
   "id": "8029389b",
   "metadata": {},
   "source": [
    "## Begin C_Summary Table Analysis"
   ]
  },
  {
   "cell_type": "code",
   "execution_count": null,
   "id": "0760cbba",
   "metadata": {},
   "outputs": [],
   "source": [
    "c_summary.columns"
   ]
  },
  {
   "cell_type": "code",
   "execution_count": null,
   "id": "afcaa69b",
   "metadata": {},
   "outputs": [],
   "source": [
    "len(c_summary)"
   ]
  },
  {
   "cell_type": "code",
   "execution_count": null,
   "id": "84d31548",
   "metadata": {},
   "outputs": [],
   "source": [
    "c_summary.describe()"
   ]
  },
  {
   "cell_type": "code",
   "execution_count": null,
   "id": "ff13d20c",
   "metadata": {},
   "outputs": [],
   "source": [
    "c_summary.info()"
   ]
  },
  {
   "cell_type": "code",
   "execution_count": null,
   "id": "71d37847",
   "metadata": {},
   "outputs": [],
   "source": [
    "unique_counts = c_summary.nunique()\n",
    "\n",
    "# Print results nicely\n",
    "for column, count in unique_counts.items():\n",
    "    print(f\"{column}: {count} \")"
   ]
  },
  {
   "cell_type": "code",
   "execution_count": null,
   "id": "381a82fb",
   "metadata": {},
   "outputs": [],
   "source": [
    "for column in c_summary.columns:\n",
    "    unique_values = c_summary[column].value_counts()\n",
    "    print(f\"Column: {column}\")\n",
    "    print(f\"Unique values ({len(unique_values)}): {unique_values}\\n\")\n"
   ]
  },
  {
   "cell_type": "code",
   "execution_count": null,
   "id": "e5090747",
   "metadata": {},
   "outputs": [],
   "source": [
    "#Print all rows where FOD discovery date does not match CPLX Discovery date\n",
    "c_summary['CPLX_DISCOVERY_DATE'] = pd.to_datetime(c_summary['CPLX_DISCOVERY_DATE']).dt.date\n",
    "\n",
    "# Convert FOD_DISCOVERY_DATE to datetime if it's not already\n",
    "c_summary['FOD_DISCOVERY_DATE'] = pd.to_datetime(c_summary['FOD_DISCOVERY_DATE']).dt.date\n",
    "\n",
    "# Filter rows where the dates do not match\n",
    "filtered_rows = c_summary[c_summary['FOD_DISCOVERY_DATE'] != c_summary['CPLX_DISCOVERY_DATE']]\n",
    "\n",
    "# Display the result\n",
    "show_df(filtered_rows)"
   ]
  },
  {
   "cell_type": "code",
   "execution_count": null,
   "id": "6b557b84",
   "metadata": {},
   "outputs": [],
   "source": [
    "#Group complexes by year. Make a line plot tracking complex causes over time.\n",
    "c_summary['CPLX_DISCOVERY_DATE'] = pd.to_datetime(c_summary['CPLX_DISCOVERY_DATE'])\n",
    "\n",
    "# Extract the year from the discovery date\n",
    "c_summary['YEAR'] = c_summary['CPLX_DISCOVERY_DATE'].dt.year\n",
    "\n",
    "causes = c_summary.groupby(['YEAR', 'CPLX_CAUSE'])\n",
    "\n",
    "# Group by year and cause, then count the number of fires\n",
    "cause_by_year = c_summary.groupby(['YEAR', 'CPLX_CAUSE']).size().unstack(fill_value=0)\n",
    "\n",
    "\n",
    "# Plotting\n",
    "plt.figure(figsize=(12, 6))\n",
    "cause_by_year.plot(kind='line', marker='o', ax=plt.gca())\n",
    "\n",
    "plt.title('Number of Fires by Cause (2014-2022)')\n",
    "plt.xlabel('Year')\n",
    "plt.ylabel('Number of Fires')\n",
    "plt.legend(title='Cause', labels=['Human (H)', 'Lightning (L)', 'Unknown (U)'])\n",
    "plt.grid(True)\n",
    "plt.tight_layout()\n",
    "plt.show()"
   ]
  },
  {
   "cell_type": "code",
   "execution_count": null,
   "id": "91cd10fe",
   "metadata": {},
   "outputs": [],
   "source": [
    "causes.head()"
   ]
  },
  {
   "cell_type": "code",
   "execution_count": null,
   "id": "e3aa3b8d",
   "metadata": {},
   "outputs": [],
   "source": []
  },
  {
   "cell_type": "code",
   "execution_count": null,
   "id": "a7393baa",
   "metadata": {},
   "outputs": [
    {
     "data": {
      "image/png": "[encoded data removed]",
      "text/plain": [
       "<Figure size 800x400 with 1 Axes>"
      ]
     },
     "metadata": {},
     "output_type": "display_data"
    }
   ],
   "source": [
    "plt.figure(figsize=(8, 4))\n",
    "sns.boxplot(x=latest_costs['EST_IM_COST_TO_DATE'])\n",
    "#sns.histplot(c_daily['EST_IM_COST_TO_DATE'], bins=4)\n",
    "#plt.title('Box Plot of EST_IM_COST_TO_DATE')\n",
    "plt.xlabel('EST_IM_COST_TO_DATE')\n",
    "plt.grid(True)\n",
    "plt.show()"
   ]
  },
  {
   "cell_type": "code",
   "execution_count": null,
   "id": "edfaf6c0",
   "metadata": {},
   "outputs": [],
   "source": [
    "len(c_summary)"
   ]
  },
  {
   "cell_type": "code",
   "execution_count": null,
   "id": "e4196d24",
   "metadata": {},
   "outputs": [],
   "source": [
    "len(c_summary.drop_duplicates())"
   ]
  },
  {
   "cell_type": "code",
   "execution_count": null,
   "id": "01db82b3",
   "metadata": {},
   "outputs": [],
   "source": [
    "show_df(causes)"
   ]
  },
  {
   "cell_type": "code",
   "execution_count": null,
   "id": "0f714614",
   "metadata": {},
   "outputs": [],
   "source": [
    "#Just take a look at one complex to see what the data looks like\n",
    "rp_complex = c_summary[c_summary['CPLX_INCIDENT_ID']==\"2021_12965990_ROUGH PATCH COMPLEX\"]"
   ]
  },
  {
   "cell_type": "code",
   "execution_count": null,
   "id": "da7f07c7",
   "metadata": {},
   "outputs": [],
   "source": [
    "#Grouping by IrwinID would give you data for the whole complex.\n",
    "rp_complex"
   ]
  },
  {
   "cell_type": "code",
   "execution_count": null,
   "id": "76231efb",
   "metadata": {},
   "outputs": [],
   "source": [
    "#Check to see if any complexes span multiple years\n",
    "\n",
    "c_summary['CPLX_DISCOVERY_DATE'] = pd.to_datetime(c_summary['CPLX_DISCOVERY_DATE'])\n",
    "\n",
    "# Extract the year from the 'DISCOVERY_DATE'\n",
    "c_summary['Year'] = c_summary['CPLX_DISCOVERY_DATE'].dt.year\n",
    "\n",
    "# Group by 'CPLX_IRWIN_ID' and find the min and max year for each complex\n",
    "year_range = c_summary.groupby('CPLX_IRWIN_ID')['Year'].agg(['min', 'max'])\n",
    "\n",
    "# Filter for complexes that span multiple years\n",
    "complexes_spanning_multiple_years = year_range[year_range['min'] != year_range['max']]\n",
    "\n",
    "# Display the result\n",
    "print(complexes_spanning_multiple_years)"
   ]
  }
 ],
 "metadata": {
  "language_info": {
   "name": "python"
  }
 },
 "nbformat": 4,
 "nbformat_minor": 5
}
