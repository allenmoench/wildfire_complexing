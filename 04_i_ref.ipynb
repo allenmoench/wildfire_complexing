{
 "cells": [
  {
   "cell_type": "code",
   "execution_count": null,
   "id": "8156b963",
   "metadata": {},
   "outputs": [],
   "source": [
    "unique_counts = i_ref.nunique()\n",
    "\n",
    "# Print results nicely\n",
    "for column, count in unique_counts.items():\n",
    "    print(f\"{column}: {count} \")"
   ]
  },
  {
   "cell_type": "code",
   "execution_count": null,
   "id": "85824d8e",
   "metadata": {},
   "outputs": [],
   "source": [
    "show_df(i_ref.head(30))"
   ]
  },
  {
   "cell_type": "code",
   "execution_count": null,
   "id": "73d276ec",
   "metadata": {},
   "outputs": [],
   "source": [
    "\n",
    "# %% [code]\n",
    "# Extract the year from the discovery date\n",
    "i_ref['DISCOVERY_DATE'] = pd.to_datetime(i_ref['DISCOVERY_DATE']) # Convert 'DISCOVERY_DATE' to datetime\n",
    "i_ref['YEAR'] = i_ref['DISCOVERY_DATE'].dt.year\n",
    "\n",
    "# Group by year and cause, then count the number of fires\n",
    "complexity_level = i_ref.groupby(['YEAR', 'COMPLEXITY_LEVEL']).size().unstack(fill_value=0)\n",
    "\n",
    "# Plotting\n",
    "plt.figure(figsize=(12, 6))\n",
    "complexity_level.plot(kind='line', marker='o', ax=plt.gca())\n",
    "\n",
    "plt.title('Complexity Level (2014-2022)')\n",
    "plt.xlabel('Year')\n",
    "plt.ylabel('Complexity Level')\n",
    "plt.legend(title='Complexity Level', labels=['Type 1 Incident', 'Type 2 Incident', 'Type 3 Incident', 'Type 4 Incident', 'Type 5 Incident'])\n",
    "plt.grid(True)\n",
    "plt.tight_layout()\n",
    "plt.show()\n"
   ]
  },
  {
   "cell_type": "code",
   "execution_count": null,
   "id": "df0e5582",
   "metadata": {},
   "outputs": [],
   "source": [
    "# Make sure 'DISCOVERY_DATE' is datetime\n",
    "i_ref['DISCOVERY_DATE'] = pd.to_datetime(i_ref['DISCOVERY_DATE'], format='mixed')\n",
    "\n",
    "# Sort by date (optional but good for plotting)\n",
    "i_ref = i_ref.sort_values('DISCOVERY_DATE')\n",
    "\n",
    "# Plotting\n",
    "plt.figure(figsize=(14, 7))\n",
    "plt.plot(i_ref['DISCOVERY_DATE'], i_ref['EST_IM_COST_TO_DATE'], marker='o', linestyle='-', markersize=4)\n",
    "\n",
    "# If there are too many points, you can also use alpha for transparency:\n",
    "# plt.plot(i_ref['DISCOVERY_DATE'], i_ref['EST_IM_COST_TO_DATE'], marker='o', linestyle='-', markersize=4, alpha=0.7)\n",
    "\n",
    "plt.title('Incident Management Cost Over Time', fontsize=16)\n",
    "plt.xlabel('Discovery Date', fontsize=14)\n",
    "plt.ylabel('Estimated IM Cost to Date', fontsize=14)\n",
    "plt.grid(True, which='both', linestyle='--', linewidth=0.5)\n",
    "plt.tight_layout()\n",
    "\n",
    "# Optional: log scale if costs vary widely\n",
    "# plt.yscale('log')\n",
    "\n",
    "plt.show()"
   ]
  }
 ],
 "metadata": {
  "language_info": {
   "name": "python"
  }
 },
 "nbformat": 4,
 "nbformat_minor": 5
}
