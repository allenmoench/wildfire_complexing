{
 "cells": [
  {
   "cell_type": "markdown",
   "id": "5554d6ef",
   "metadata": {},
   "source": [
    "# Exploratory Data Analysis: c_summary, c_daily, i_fod, and i_ref.\n",
    "\n",
    "This notebook explores the data given to us by our partner, Lise Ann St. Denis of the Colorado-Wyoming Resilience Engine. In reviewing the datasets, we will examine the types of data and the nubmber of records, and we will perform some initial statistical analysis."
   ]
  },
  {
   "cell_type": "code",
   "execution_count": null,
   "id": "f8bee648",
   "metadata": {},
   "outputs": [],
   "source": [
    "# import libraries\n",
    "import pandas as pd\n",
    "import seaborn as sns\n",
    "import matplotlib.pyplot as plt\n",
    "\n",
    "# libraries to allow .csv's from google drive to be readable\n",
    "import gspread\n",
    "from oauth2client.service_account import ServiceAccountCredentials\n"
   ]
  },
  {
   "cell_type": "code",
   "execution_count": 7,
   "id": "549778c8",
   "metadata": {},
   "outputs": [
    {
     "name": "stdout",
     "output_type": "stream",
     "text": [
      "Collecting gspread\n",
      "  Downloading gspread-6.2.0-py3-none-any.whl.metadata (11 kB)\n",
      "Collecting oauth2client\n",
      "  Downloading oauth2client-4.1.3-py2.py3-none-any.whl.metadata (1.2 kB)\n",
      "Requirement already satisfied: pandas in c:\\users\\moenc\\miniconda3\\envs\\earth-analytics-python\\lib\\site-packages (2.2.3)\n",
      "Collecting google-auth>=1.12.0 (from gspread)\n",
      "  Downloading google_auth-2.39.0-py2.py3-none-any.whl.metadata (6.2 kB)\n",
      "Collecting google-auth-oauthlib>=0.4.1 (from gspread)\n",
      "  Downloading google_auth_oauthlib-1.2.2-py3-none-any.whl.metadata (2.7 kB)\n",
      "Collecting httplib2>=0.9.1 (from oauth2client)\n",
      "  Downloading httplib2-0.22.0-py3-none-any.whl.metadata (2.6 kB)\n",
      "Collecting pyasn1>=0.1.7 (from oauth2client)\n",
      "  Downloading pyasn1-0.6.1-py3-none-any.whl.metadata (8.4 kB)\n",
      "Collecting pyasn1-modules>=0.0.5 (from oauth2client)\n",
      "  Downloading pyasn1_modules-0.4.2-py3-none-any.whl.metadata (3.5 kB)\n",
      "Collecting rsa>=3.1.4 (from oauth2client)\n",
      "  Downloading rsa-4.9.1-py3-none-any.whl.metadata (5.6 kB)\n",
      "Requirement already satisfied: six>=1.6.1 in c:\\users\\moenc\\miniconda3\\envs\\earth-analytics-python\\lib\\site-packages (from oauth2client) (1.16.0)\n",
      "Requirement already satisfied: numpy>=1.23.2 in c:\\users\\moenc\\miniconda3\\envs\\earth-analytics-python\\lib\\site-packages (from pandas) (2.0.2)\n",
      "Requirement already satisfied: python-dateutil>=2.8.2 in c:\\users\\moenc\\miniconda3\\envs\\earth-analytics-python\\lib\\site-packages (from pandas) (2.9.0)\n",
      "Requirement already satisfied: pytz>=2020.1 in c:\\users\\moenc\\miniconda3\\envs\\earth-analytics-python\\lib\\site-packages (from pandas) (2024.1)\n",
      "Requirement already satisfied: tzdata>=2022.7 in c:\\users\\moenc\\miniconda3\\envs\\earth-analytics-python\\lib\\site-packages (from pandas) (2024.2)\n",
      "Collecting cachetools<6.0,>=2.0.0 (from google-auth>=1.12.0->gspread)\n",
      "  Downloading cachetools-5.5.2-py3-none-any.whl.metadata (5.4 kB)\n",
      "Collecting requests-oauthlib>=0.7.0 (from google-auth-oauthlib>=0.4.1->gspread)\n",
      "  Downloading requests_oauthlib-2.0.0-py2.py3-none-any.whl.metadata (11 kB)\n",
      "Requirement already satisfied: pyparsing!=3.0.0,!=3.0.1,!=3.0.2,!=3.0.3,<4,>=2.4.2 in c:\\users\\moenc\\miniconda3\\envs\\earth-analytics-python\\lib\\site-packages (from httplib2>=0.9.1->oauth2client) (3.2.0)\n",
      "Collecting oauthlib>=3.0.0 (from requests-oauthlib>=0.7.0->google-auth-oauthlib>=0.4.1->gspread)\n",
      "  Downloading oauthlib-3.2.2-py3-none-any.whl.metadata (7.5 kB)\n",
      "Requirement already satisfied: requests>=2.0.0 in c:\\users\\moenc\\miniconda3\\envs\\earth-analytics-python\\lib\\site-packages (from requests-oauthlib>=0.7.0->google-auth-oauthlib>=0.4.1->gspread) (2.32.3)\n",
      "Requirement already satisfied: charset-normalizer<4,>=2 in c:\\users\\moenc\\miniconda3\\envs\\earth-analytics-python\\lib\\site-packages (from requests>=2.0.0->requests-oauthlib>=0.7.0->google-auth-oauthlib>=0.4.1->gspread) (3.4.0)\n",
      "Requirement already satisfied: idna<4,>=2.5 in c:\\users\\moenc\\miniconda3\\envs\\earth-analytics-python\\lib\\site-packages (from requests>=2.0.0->requests-oauthlib>=0.7.0->google-auth-oauthlib>=0.4.1->gspread) (3.10)\n",
      "Requirement already satisfied: urllib3<3,>=1.21.1 in c:\\users\\moenc\\miniconda3\\envs\\earth-analytics-python\\lib\\site-packages (from requests>=2.0.0->requests-oauthlib>=0.7.0->google-auth-oauthlib>=0.4.1->gspread) (2.2.3)\n",
      "Requirement already satisfied: certifi>=2017.4.17 in c:\\users\\moenc\\miniconda3\\envs\\earth-analytics-python\\lib\\site-packages (from requests>=2.0.0->requests-oauthlib>=0.7.0->google-auth-oauthlib>=0.4.1->gspread) (2024.8.30)\n",
      "Downloading gspread-6.2.0-py3-none-any.whl (59 kB)\n",
      "Downloading oauth2client-4.1.3-py2.py3-none-any.whl (98 kB)\n",
      "Downloading google_auth-2.39.0-py2.py3-none-any.whl (212 kB)\n",
      "Downloading google_auth_oauthlib-1.2.2-py3-none-any.whl (19 kB)\n",
      "Downloading httplib2-0.22.0-py3-none-any.whl (96 kB)\n",
      "Downloading pyasn1-0.6.1-py3-none-any.whl (83 kB)\n",
      "Downloading pyasn1_modules-0.4.2-py3-none-any.whl (181 kB)\n",
      "Downloading rsa-4.9.1-py3-none-any.whl (34 kB)\n",
      "Downloading cachetools-5.5.2-py3-none-any.whl (10 kB)\n",
      "Downloading requests_oauthlib-2.0.0-py2.py3-none-any.whl (24 kB)\n",
      "Downloading oauthlib-3.2.2-py3-none-any.whl (151 kB)\n",
      "Installing collected packages: pyasn1, oauthlib, httplib2, cachetools, rsa, requests-oauthlib, pyasn1-modules, oauth2client, google-auth, google-auth-oauthlib, gspread\n",
      "Successfully installed cachetools-5.5.2 google-auth-2.39.0 google-auth-oauthlib-1.2.2 gspread-6.2.0 httplib2-0.22.0 oauth2client-4.1.3 oauthlib-3.2.2 pyasn1-0.6.1 pyasn1-modules-0.4.2 requests-oauthlib-2.0.0 rsa-4.9.1\n",
      "Note: you may need to restart the kernel to use updated packages.\n"
     ]
    }
   ],
   "source": [
    "pip install gspread oauth2client pandas\n"
   ]
  },
  {
   "cell_type": "code",
   "execution_count": null,
   "id": "e3102f80",
   "metadata": {},
   "outputs": [
    {
     "ename": "NameError",
     "evalue": "name 'drive' is not defined",
     "output_type": "error",
     "traceback": [
      "\u001b[1;31m---------------------------------------------------------------------------\u001b[0m",
      "\u001b[1;31mNameError\u001b[0m                                 Traceback (most recent call last)",
      "Cell \u001b[1;32mIn[4], line 1\u001b[0m\n\u001b[1;32m----> 1\u001b[0m \u001b[43mdrive\u001b[49m\u001b[38;5;241m.\u001b[39mmount(\u001b[38;5;124m'\u001b[39m\u001b[38;5;124m/content/drive\u001b[39m\u001b[38;5;124m'\u001b[39m, force_remount\u001b[38;5;241m=\u001b[39m\u001b[38;5;28;01mTrue\u001b[39;00m)\n",
      "\u001b[1;31mNameError\u001b[0m: name 'drive' is not defined"
     ]
    }
   ],
   "source": [
    "# drive.mount('/content/drive', force_remount=True)\n"
   ]
  },
  {
   "cell_type": "code",
   "execution_count": 11,
   "id": "ea9da4fb",
   "metadata": {},
   "outputs": [
    {
     "ename": "NameError",
     "evalue": "name 'ServiceAccountCredentials' is not defined",
     "output_type": "error",
     "traceback": [
      "\u001b[1;31m---------------------------------------------------------------------------\u001b[0m",
      "\u001b[1;31mNameError\u001b[0m                                 Traceback (most recent call last)",
      "Cell \u001b[1;32mIn[11], line 10\u001b[0m\n\u001b[0;32m      7\u001b[0m SCOPES \u001b[38;5;241m=\u001b[39m [\u001b[38;5;124m\"\u001b[39m\u001b[38;5;124mhttps://spreadsheets.google.com/feeds\u001b[39m\u001b[38;5;124m\"\u001b[39m, \u001b[38;5;124m\"\u001b[39m\u001b[38;5;124mhttps://www.googleapis.com/auth/drive\u001b[39m\u001b[38;5;124m\"\u001b[39m]\n\u001b[0;32m      9\u001b[0m \u001b[38;5;66;03m# Authorize the client\u001b[39;00m\n\u001b[1;32m---> 10\u001b[0m creds \u001b[38;5;241m=\u001b[39m \u001b[43mServiceAccountCredentials\u001b[49m\u001b[38;5;241m.\u001b[39mfrom_json_keyfile_name(SERVICE_ACCOUNT_FILE, SCOPES)\n\u001b[0;32m     11\u001b[0m client \u001b[38;5;241m=\u001b[39m gspread\u001b[38;5;241m.\u001b[39mauthorize(creds)\n\u001b[0;32m     13\u001b[0m \u001b[38;5;66;03m# --- LOAD SHEETS SECTION ---\u001b[39;00m\n\u001b[0;32m     14\u001b[0m \n\u001b[0;32m     15\u001b[0m \u001b[38;5;66;03m# ✅ Replace these with your actual spreadsheet names or URLs\u001b[39;00m\n\u001b[0;32m     16\u001b[0m \u001b[38;5;66;03m# You can use the name (if shared with the service account), or paste the long URL\u001b[39;00m\n",
      "\u001b[1;31mNameError\u001b[0m: name 'ServiceAccountCredentials' is not defined"
     ]
    }
   ],
   "source": [
    "# --- SETUP SECTION ---\n",
    "\n",
    "# ✅ Replace this with the **actual path** to your downloaded JSON credentials file\n",
    "SERVICE_ACCOUNT_FILE = r\"C:\\Users\\moenc\\Downloads\\eda-wildfire-complexing-95c8f590c892.json\"\n",
    "\n",
    "# ✅ Define the scope for Google Sheets + Drive\n",
    "SCOPES = [\"https://spreadsheets.google.com/feeds\", \"https://www.googleapis.com/auth/drive\"]\n",
    "\n",
    "# Authorize the client\n",
    "creds = ServiceAccountCredentials.from_json_keyfile_name(SERVICE_ACCOUNT_FILE, SCOPES)\n",
    "client = gspread.authorize(creds)\n",
    "\n",
    "# --- LOAD SHEETS SECTION ---\n",
    "\n",
    "# ✅ Replace these with your actual spreadsheet names or URLs\n",
    "# You can use the name (if shared with the service account), or paste the long URL\n",
    "SPREADSHEETS = {\n",
    "    \"i_fod\": \"ics209plus-wf-incidents-fod-draft_1999to2023.csv\",\n",
    "    \"c_daily\": \"ics209plus-wf_complex-assoc-daily_2014to2023-draft.csv\",\n",
    "    \"c_summary\": \"ics209plus-wf-complex-summary-draft_2014to2023.csv\",\n",
    "    \"i_ref\": \"ics209plus-wf_incidents-reference_2014to2023.csv\",\n",
    "    \"nwcg\": \"national_activity.csv\"\n",
    "}\n",
    "\n",
    "# Load data from each sheet into a dictionary of pandas DataFrames\n",
    "dataframes = {}\n",
    "\n",
    "for key, sheet_name_or_url in SPREADSHEETS.items():\n",
    "    sheet = client.open_by_url(sheet_name_or_url) if \"http\" in sheet_name_or_url else client.open(sheet_name_or_url)\n",
    "    worksheet = sheet.sheet1  # 🔁 You can also use `.worksheet(\"Tab Name\")` if needed\n",
    "    data = worksheet.get_all_records()\n",
    "    dataframes[key] = pd.DataFrame(data)\n",
    "\n",
    "# --- USAGE EXAMPLE ---\n",
    "\n",
    "# Example: print first few rows of one sheet\n",
    "print(\"Preview of dataset1:\")\n",
    "print(dataframes[\"dataset1\"].head())\n",
    "\n",
    "# You now have:\n",
    "# dataframes[\"dataset1\"], dataframes[\"dataset2\"], ..., etc.\n"
   ]
  },
  {
   "cell_type": "code",
   "execution_count": null,
   "id": "cb7feac3",
   "metadata": {},
   "outputs": [],
   "source": [
    "from IPython.display import display, HTML\n",
    "\n",
    "def show_df(df, height=400):\n",
    "    \"\"\"Display a scrollable HTML table of the DataFrame or a GroupBy object.\"\"\"\n",
    "\n",
    "    # If the object is a GroupBy object, first apply an aggregation (e.g., count, sum, mean)\n",
    "    if isinstance(df, pd.core.groupby.DataFrameGroupBy):\n",
    "        # Here we apply a count aggregation, but you can change it to other aggregations like sum, mean, etc.\n",
    "        df = df.size().reset_index(name='count')\n",
    "\n",
    "    # Display the DataFrame in a scrollable HTML format\n",
    "    display(HTML(f\"\"\"\n",
    "    <div style=\"height:{height}px; overflow:auto\">\n",
    "        {df.to_html(max_rows=None, max_cols=None)}\n",
    "    </div>\n",
    "    \"\"\"))"
   ]
  },
  {
   "cell_type": "code",
   "execution_count": null,
   "id": "a5cd010b",
   "metadata": {},
   "outputs": [],
   "source": []
  },
  {
   "cell_type": "code",
   "execution_count": null,
   "id": "2634d297",
   "metadata": {},
   "outputs": [],
   "source": [
    "# Comment these out depending on who is running the code.\n",
    "# Sara's filepaths\n",
    "# filepath1 = '/content/drive/MyDrive/Earth Analytics ICS209/ics209plus-wf_complex-assoc-daily_2014to2023-draft.csv'\n",
    "# filepath2 = '/content/drive/MyDrive/Earth Analytics ICS209/ics209plus-wf_incidents-reference_2014to2023.csv'\n",
    "# filepath3 = '/content/drive/MyDrive/Earth Analytics ICS209/ics209plus-wf-complex-summary-draft_2014to2023.csv'\n",
    "# filepath4 = '/content/drive/MyDrive/Earth Analytics ICS209/ics209plus-wf-incidents-fod-draft_1999to2023.csv'\n"
   ]
  },
  {
   "cell_type": "code",
   "execution_count": null,
   "id": "79a7ff01",
   "metadata": {},
   "outputs": [
    {
     "ename": "FileNotFoundError",
     "evalue": "[Errno 2] No such file or directory: '/content/drive/MyDrive/Earth Analytics ICS209/ics209plus-wf_complex-assoc-daily_2014to2023-draft.csv'",
     "output_type": "error",
     "traceback": [
      "\u001b[1;31m---------------------------------------------------------------------------\u001b[0m",
      "\u001b[1;31mFileNotFoundError\u001b[0m                         Traceback (most recent call last)",
      "Cell \u001b[1;32mIn[5], line 1\u001b[0m\n\u001b[1;32m----> 1\u001b[0m c_daily \u001b[38;5;241m=\u001b[39m \u001b[43mpd\u001b[49m\u001b[38;5;241;43m.\u001b[39;49m\u001b[43mread_csv\u001b[49m\u001b[43m(\u001b[49m\u001b[43mfilepath1\u001b[49m\u001b[43m)\u001b[49m\n\u001b[0;32m      2\u001b[0m i_ref \u001b[38;5;241m=\u001b[39m pd\u001b[38;5;241m.\u001b[39mread_csv(filepath2)\n\u001b[0;32m      3\u001b[0m c_summary \u001b[38;5;241m=\u001b[39m pd\u001b[38;5;241m.\u001b[39mread_csv(filepath3)\n",
      "File \u001b[1;32mc:\\Users\\moenc\\miniconda3\\envs\\earth-analytics-python\\Lib\\site-packages\\pandas\\io\\parsers\\readers.py:1026\u001b[0m, in \u001b[0;36mread_csv\u001b[1;34m(filepath_or_buffer, sep, delimiter, header, names, index_col, usecols, dtype, engine, converters, true_values, false_values, skipinitialspace, skiprows, skipfooter, nrows, na_values, keep_default_na, na_filter, verbose, skip_blank_lines, parse_dates, infer_datetime_format, keep_date_col, date_parser, date_format, dayfirst, cache_dates, iterator, chunksize, compression, thousands, decimal, lineterminator, quotechar, quoting, doublequote, escapechar, comment, encoding, encoding_errors, dialect, on_bad_lines, delim_whitespace, low_memory, memory_map, float_precision, storage_options, dtype_backend)\u001b[0m\n\u001b[0;32m   1013\u001b[0m kwds_defaults \u001b[38;5;241m=\u001b[39m _refine_defaults_read(\n\u001b[0;32m   1014\u001b[0m     dialect,\n\u001b[0;32m   1015\u001b[0m     delimiter,\n\u001b[1;32m   (...)\u001b[0m\n\u001b[0;32m   1022\u001b[0m     dtype_backend\u001b[38;5;241m=\u001b[39mdtype_backend,\n\u001b[0;32m   1023\u001b[0m )\n\u001b[0;32m   1024\u001b[0m kwds\u001b[38;5;241m.\u001b[39mupdate(kwds_defaults)\n\u001b[1;32m-> 1026\u001b[0m \u001b[38;5;28;01mreturn\u001b[39;00m \u001b[43m_read\u001b[49m\u001b[43m(\u001b[49m\u001b[43mfilepath_or_buffer\u001b[49m\u001b[43m,\u001b[49m\u001b[43m \u001b[49m\u001b[43mkwds\u001b[49m\u001b[43m)\u001b[49m\n",
      "File \u001b[1;32mc:\\Users\\moenc\\miniconda3\\envs\\earth-analytics-python\\Lib\\site-packages\\pandas\\io\\parsers\\readers.py:620\u001b[0m, in \u001b[0;36m_read\u001b[1;34m(filepath_or_buffer, kwds)\u001b[0m\n\u001b[0;32m    617\u001b[0m _validate_names(kwds\u001b[38;5;241m.\u001b[39mget(\u001b[38;5;124m\"\u001b[39m\u001b[38;5;124mnames\u001b[39m\u001b[38;5;124m\"\u001b[39m, \u001b[38;5;28;01mNone\u001b[39;00m))\n\u001b[0;32m    619\u001b[0m \u001b[38;5;66;03m# Create the parser.\u001b[39;00m\n\u001b[1;32m--> 620\u001b[0m parser \u001b[38;5;241m=\u001b[39m \u001b[43mTextFileReader\u001b[49m\u001b[43m(\u001b[49m\u001b[43mfilepath_or_buffer\u001b[49m\u001b[43m,\u001b[49m\u001b[43m \u001b[49m\u001b[38;5;241;43m*\u001b[39;49m\u001b[38;5;241;43m*\u001b[39;49m\u001b[43mkwds\u001b[49m\u001b[43m)\u001b[49m\n\u001b[0;32m    622\u001b[0m \u001b[38;5;28;01mif\u001b[39;00m chunksize \u001b[38;5;129;01mor\u001b[39;00m iterator:\n\u001b[0;32m    623\u001b[0m     \u001b[38;5;28;01mreturn\u001b[39;00m parser\n",
      "File \u001b[1;32mc:\\Users\\moenc\\miniconda3\\envs\\earth-analytics-python\\Lib\\site-packages\\pandas\\io\\parsers\\readers.py:1620\u001b[0m, in \u001b[0;36mTextFileReader.__init__\u001b[1;34m(self, f, engine, **kwds)\u001b[0m\n\u001b[0;32m   1617\u001b[0m     \u001b[38;5;28mself\u001b[39m\u001b[38;5;241m.\u001b[39moptions[\u001b[38;5;124m\"\u001b[39m\u001b[38;5;124mhas_index_names\u001b[39m\u001b[38;5;124m\"\u001b[39m] \u001b[38;5;241m=\u001b[39m kwds[\u001b[38;5;124m\"\u001b[39m\u001b[38;5;124mhas_index_names\u001b[39m\u001b[38;5;124m\"\u001b[39m]\n\u001b[0;32m   1619\u001b[0m \u001b[38;5;28mself\u001b[39m\u001b[38;5;241m.\u001b[39mhandles: IOHandles \u001b[38;5;241m|\u001b[39m \u001b[38;5;28;01mNone\u001b[39;00m \u001b[38;5;241m=\u001b[39m \u001b[38;5;28;01mNone\u001b[39;00m\n\u001b[1;32m-> 1620\u001b[0m \u001b[38;5;28mself\u001b[39m\u001b[38;5;241m.\u001b[39m_engine \u001b[38;5;241m=\u001b[39m \u001b[38;5;28;43mself\u001b[39;49m\u001b[38;5;241;43m.\u001b[39;49m\u001b[43m_make_engine\u001b[49m\u001b[43m(\u001b[49m\u001b[43mf\u001b[49m\u001b[43m,\u001b[49m\u001b[43m \u001b[49m\u001b[38;5;28;43mself\u001b[39;49m\u001b[38;5;241;43m.\u001b[39;49m\u001b[43mengine\u001b[49m\u001b[43m)\u001b[49m\n",
      "File \u001b[1;32mc:\\Users\\moenc\\miniconda3\\envs\\earth-analytics-python\\Lib\\site-packages\\pandas\\io\\parsers\\readers.py:1880\u001b[0m, in \u001b[0;36mTextFileReader._make_engine\u001b[1;34m(self, f, engine)\u001b[0m\n\u001b[0;32m   1878\u001b[0m     \u001b[38;5;28;01mif\u001b[39;00m \u001b[38;5;124m\"\u001b[39m\u001b[38;5;124mb\u001b[39m\u001b[38;5;124m\"\u001b[39m \u001b[38;5;129;01mnot\u001b[39;00m \u001b[38;5;129;01min\u001b[39;00m mode:\n\u001b[0;32m   1879\u001b[0m         mode \u001b[38;5;241m+\u001b[39m\u001b[38;5;241m=\u001b[39m \u001b[38;5;124m\"\u001b[39m\u001b[38;5;124mb\u001b[39m\u001b[38;5;124m\"\u001b[39m\n\u001b[1;32m-> 1880\u001b[0m \u001b[38;5;28mself\u001b[39m\u001b[38;5;241m.\u001b[39mhandles \u001b[38;5;241m=\u001b[39m \u001b[43mget_handle\u001b[49m\u001b[43m(\u001b[49m\n\u001b[0;32m   1881\u001b[0m \u001b[43m    \u001b[49m\u001b[43mf\u001b[49m\u001b[43m,\u001b[49m\n\u001b[0;32m   1882\u001b[0m \u001b[43m    \u001b[49m\u001b[43mmode\u001b[49m\u001b[43m,\u001b[49m\n\u001b[0;32m   1883\u001b[0m \u001b[43m    \u001b[49m\u001b[43mencoding\u001b[49m\u001b[38;5;241;43m=\u001b[39;49m\u001b[38;5;28;43mself\u001b[39;49m\u001b[38;5;241;43m.\u001b[39;49m\u001b[43moptions\u001b[49m\u001b[38;5;241;43m.\u001b[39;49m\u001b[43mget\u001b[49m\u001b[43m(\u001b[49m\u001b[38;5;124;43m\"\u001b[39;49m\u001b[38;5;124;43mencoding\u001b[39;49m\u001b[38;5;124;43m\"\u001b[39;49m\u001b[43m,\u001b[49m\u001b[43m \u001b[49m\u001b[38;5;28;43;01mNone\u001b[39;49;00m\u001b[43m)\u001b[49m\u001b[43m,\u001b[49m\n\u001b[0;32m   1884\u001b[0m \u001b[43m    \u001b[49m\u001b[43mcompression\u001b[49m\u001b[38;5;241;43m=\u001b[39;49m\u001b[38;5;28;43mself\u001b[39;49m\u001b[38;5;241;43m.\u001b[39;49m\u001b[43moptions\u001b[49m\u001b[38;5;241;43m.\u001b[39;49m\u001b[43mget\u001b[49m\u001b[43m(\u001b[49m\u001b[38;5;124;43m\"\u001b[39;49m\u001b[38;5;124;43mcompression\u001b[39;49m\u001b[38;5;124;43m\"\u001b[39;49m\u001b[43m,\u001b[49m\u001b[43m \u001b[49m\u001b[38;5;28;43;01mNone\u001b[39;49;00m\u001b[43m)\u001b[49m\u001b[43m,\u001b[49m\n\u001b[0;32m   1885\u001b[0m \u001b[43m    \u001b[49m\u001b[43mmemory_map\u001b[49m\u001b[38;5;241;43m=\u001b[39;49m\u001b[38;5;28;43mself\u001b[39;49m\u001b[38;5;241;43m.\u001b[39;49m\u001b[43moptions\u001b[49m\u001b[38;5;241;43m.\u001b[39;49m\u001b[43mget\u001b[49m\u001b[43m(\u001b[49m\u001b[38;5;124;43m\"\u001b[39;49m\u001b[38;5;124;43mmemory_map\u001b[39;49m\u001b[38;5;124;43m\"\u001b[39;49m\u001b[43m,\u001b[49m\u001b[43m \u001b[49m\u001b[38;5;28;43;01mFalse\u001b[39;49;00m\u001b[43m)\u001b[49m\u001b[43m,\u001b[49m\n\u001b[0;32m   1886\u001b[0m \u001b[43m    \u001b[49m\u001b[43mis_text\u001b[49m\u001b[38;5;241;43m=\u001b[39;49m\u001b[43mis_text\u001b[49m\u001b[43m,\u001b[49m\n\u001b[0;32m   1887\u001b[0m \u001b[43m    \u001b[49m\u001b[43merrors\u001b[49m\u001b[38;5;241;43m=\u001b[39;49m\u001b[38;5;28;43mself\u001b[39;49m\u001b[38;5;241;43m.\u001b[39;49m\u001b[43moptions\u001b[49m\u001b[38;5;241;43m.\u001b[39;49m\u001b[43mget\u001b[49m\u001b[43m(\u001b[49m\u001b[38;5;124;43m\"\u001b[39;49m\u001b[38;5;124;43mencoding_errors\u001b[39;49m\u001b[38;5;124;43m\"\u001b[39;49m\u001b[43m,\u001b[49m\u001b[43m \u001b[49m\u001b[38;5;124;43m\"\u001b[39;49m\u001b[38;5;124;43mstrict\u001b[39;49m\u001b[38;5;124;43m\"\u001b[39;49m\u001b[43m)\u001b[49m\u001b[43m,\u001b[49m\n\u001b[0;32m   1888\u001b[0m \u001b[43m    \u001b[49m\u001b[43mstorage_options\u001b[49m\u001b[38;5;241;43m=\u001b[39;49m\u001b[38;5;28;43mself\u001b[39;49m\u001b[38;5;241;43m.\u001b[39;49m\u001b[43moptions\u001b[49m\u001b[38;5;241;43m.\u001b[39;49m\u001b[43mget\u001b[49m\u001b[43m(\u001b[49m\u001b[38;5;124;43m\"\u001b[39;49m\u001b[38;5;124;43mstorage_options\u001b[39;49m\u001b[38;5;124;43m\"\u001b[39;49m\u001b[43m,\u001b[49m\u001b[43m \u001b[49m\u001b[38;5;28;43;01mNone\u001b[39;49;00m\u001b[43m)\u001b[49m\u001b[43m,\u001b[49m\n\u001b[0;32m   1889\u001b[0m \u001b[43m\u001b[49m\u001b[43m)\u001b[49m\n\u001b[0;32m   1890\u001b[0m \u001b[38;5;28;01massert\u001b[39;00m \u001b[38;5;28mself\u001b[39m\u001b[38;5;241m.\u001b[39mhandles \u001b[38;5;129;01mis\u001b[39;00m \u001b[38;5;129;01mnot\u001b[39;00m \u001b[38;5;28;01mNone\u001b[39;00m\n\u001b[0;32m   1891\u001b[0m f \u001b[38;5;241m=\u001b[39m \u001b[38;5;28mself\u001b[39m\u001b[38;5;241m.\u001b[39mhandles\u001b[38;5;241m.\u001b[39mhandle\n",
      "File \u001b[1;32mc:\\Users\\moenc\\miniconda3\\envs\\earth-analytics-python\\Lib\\site-packages\\pandas\\io\\common.py:873\u001b[0m, in \u001b[0;36mget_handle\u001b[1;34m(path_or_buf, mode, encoding, compression, memory_map, is_text, errors, storage_options)\u001b[0m\n\u001b[0;32m    868\u001b[0m \u001b[38;5;28;01melif\u001b[39;00m \u001b[38;5;28misinstance\u001b[39m(handle, \u001b[38;5;28mstr\u001b[39m):\n\u001b[0;32m    869\u001b[0m     \u001b[38;5;66;03m# Check whether the filename is to be opened in binary mode.\u001b[39;00m\n\u001b[0;32m    870\u001b[0m     \u001b[38;5;66;03m# Binary mode does not support 'encoding' and 'newline'.\u001b[39;00m\n\u001b[0;32m    871\u001b[0m     \u001b[38;5;28;01mif\u001b[39;00m ioargs\u001b[38;5;241m.\u001b[39mencoding \u001b[38;5;129;01mand\u001b[39;00m \u001b[38;5;124m\"\u001b[39m\u001b[38;5;124mb\u001b[39m\u001b[38;5;124m\"\u001b[39m \u001b[38;5;129;01mnot\u001b[39;00m \u001b[38;5;129;01min\u001b[39;00m ioargs\u001b[38;5;241m.\u001b[39mmode:\n\u001b[0;32m    872\u001b[0m         \u001b[38;5;66;03m# Encoding\u001b[39;00m\n\u001b[1;32m--> 873\u001b[0m         handle \u001b[38;5;241m=\u001b[39m \u001b[38;5;28;43mopen\u001b[39;49m\u001b[43m(\u001b[49m\n\u001b[0;32m    874\u001b[0m \u001b[43m            \u001b[49m\u001b[43mhandle\u001b[49m\u001b[43m,\u001b[49m\n\u001b[0;32m    875\u001b[0m \u001b[43m            \u001b[49m\u001b[43mioargs\u001b[49m\u001b[38;5;241;43m.\u001b[39;49m\u001b[43mmode\u001b[49m\u001b[43m,\u001b[49m\n\u001b[0;32m    876\u001b[0m \u001b[43m            \u001b[49m\u001b[43mencoding\u001b[49m\u001b[38;5;241;43m=\u001b[39;49m\u001b[43mioargs\u001b[49m\u001b[38;5;241;43m.\u001b[39;49m\u001b[43mencoding\u001b[49m\u001b[43m,\u001b[49m\n\u001b[0;32m    877\u001b[0m \u001b[43m            \u001b[49m\u001b[43merrors\u001b[49m\u001b[38;5;241;43m=\u001b[39;49m\u001b[43merrors\u001b[49m\u001b[43m,\u001b[49m\n\u001b[0;32m    878\u001b[0m \u001b[43m            \u001b[49m\u001b[43mnewline\u001b[49m\u001b[38;5;241;43m=\u001b[39;49m\u001b[38;5;124;43m\"\u001b[39;49m\u001b[38;5;124;43m\"\u001b[39;49m\u001b[43m,\u001b[49m\n\u001b[0;32m    879\u001b[0m \u001b[43m        \u001b[49m\u001b[43m)\u001b[49m\n\u001b[0;32m    880\u001b[0m     \u001b[38;5;28;01melse\u001b[39;00m:\n\u001b[0;32m    881\u001b[0m         \u001b[38;5;66;03m# Binary mode\u001b[39;00m\n\u001b[0;32m    882\u001b[0m         handle \u001b[38;5;241m=\u001b[39m \u001b[38;5;28mopen\u001b[39m(handle, ioargs\u001b[38;5;241m.\u001b[39mmode)\n",
      "\u001b[1;31mFileNotFoundError\u001b[0m: [Errno 2] No such file or directory: '/content/drive/MyDrive/Earth Analytics ICS209/ics209plus-wf_complex-assoc-daily_2014to2023-draft.csv'"
     ]
    }
   ],
   "source": [
    "c_daily = pd.read_csv(filepath1)\n",
    "i_ref = pd.read_csv(filepath2)\n",
    "c_summary = pd.read_csv(filepath3)\n",
    "i_fod = pd.read_csv(filepath4)\n"
   ]
  },
  {
   "cell_type": "code",
   "execution_count": null,
   "id": "8a62e26e",
   "metadata": {},
   "outputs": [],
   "source": [
    "c_daily.head()\n",
    "#Multiple entries per fire means we need to group by IDs to do any kind of meaningful statistical analysis or visualization."
   ]
  },
  {
   "cell_type": "code",
   "execution_count": null,
   "id": "ccfde76e",
   "metadata": {},
   "outputs": [],
   "source": [
    "\n",
    "c_daily.columns"
   ]
  },
  {
   "cell_type": "code",
   "execution_count": null,
   "id": "04f79cd9",
   "metadata": {},
   "outputs": [],
   "source": [
    "c_daily.describe()"
   ]
  },
  {
   "cell_type": "code",
   "execution_count": null,
   "id": "c466e989",
   "metadata": {},
   "outputs": [],
   "source": [
    "c_daily.info()"
   ]
  },
  {
   "cell_type": "code",
   "execution_count": null,
   "id": "05ed8692",
   "metadata": {},
   "outputs": [],
   "source": [
    "unique_counts = c_daily.nunique()\n",
    "\n",
    "# Print results nicely\n",
    "for column, count in unique_counts.items():\n",
    "    print(f\"{column}: {count} \")"
   ]
  },
  {
   "cell_type": "code",
   "execution_count": null,
   "id": "5148be2c",
   "metadata": {},
   "outputs": [],
   "source": [
    "#change the date colum to datetime format\n",
    "c_daily['REPORT_TO_DATE'] = pd.to_datetime(c_daily['REPORT_TO_DATE'])"
   ]
  },
  {
   "cell_type": "code",
   "execution_count": null,
   "id": "2dde153a",
   "metadata": {},
   "outputs": [],
   "source": [
    "latest_costs = c_daily.loc[c_daily.groupby('CPLX_INCIDENT_ID')['REPORT_TO_DATE'].idxmax()]\n",
    "latest_costs = latest_costs.reset_index(drop=True)\n",
    "\n",
    "# Keep only relevant columns\n",
    "latest_costs = latest_costs[['CPLX_INCIDENT_ID', 'REPORT_TO_DATE', 'EST_IM_COST_TO_DATE']]\n",
    "\n",
    "# Show result\n",
    "print(latest_costs.head())\n"
   ]
  },
  {
   "cell_type": "code",
   "execution_count": null,
   "id": "628e019e",
   "metadata": {},
   "outputs": [],
   "source": [
    "incident_counts = c_daily['CPLX_INCIDENT_ID'].value_counts()\n",
    "print(incident_counts.head(10))  # See the top few\n",
    "\n",
    "print(\"Number of incidents with more than 1 entry:\", (incident_counts > 1).sum())"
   ]
  },
  {
   "cell_type": "code",
   "execution_count": null,
   "id": "9c1f5e8b",
   "metadata": {},
   "outputs": [],
   "source": [
    "plt.figure(figsize=(8, 4))\n",
    "sns.boxplot(x=latest_costs['EST_IM_COST_TO_DATE'])\n",
    "#sns.histplot(c_daily['EST_IM_COST_TO_DATE'], bins=4)\n",
    "#plt.title('Box Plot of EST_IM_COST_TO_DATE')\n",
    "plt.xlabel('EST_IM_COST_TO_DATE')\n",
    "plt.grid(True)\n",
    "plt.show()"
   ]
  },
  {
   "cell_type": "code",
   "execution_count": null,
   "id": "75d18110",
   "metadata": {},
   "outputs": [],
   "source": [
    "plt.figure(figsize=(8, 4))\n",
    "sns.boxplot(x=c_daily['EST_IM_COST_TO_DATE'])\n",
    "#sns.histplot(c_daily['EST_IM_COST_TO_DATE'], bins=4)\n",
    "plt.title('Box Plot of EST_IM_COST_TO_DATE')\n",
    "plt.xlabel('EST_IM_COST_TO_DATE')\n",
    "plt.grid(True)\n",
    "plt.show()"
   ]
  },
  {
   "cell_type": "code",
   "execution_count": null,
   "id": "108624c8",
   "metadata": {},
   "outputs": [],
   "source": [
    "latest = c_daily.loc[c_daily.groupby('CPLX_INCIDENT_ID')['REPORT_TO_DATE'].idxmax()]\n",
    "latest_acres = latest.copy()\n",
    "latest_acres = latest_acres.reset_index(drop=True)\n",
    "\n",
    "# Keep only relevant columns\n",
    "latest_acres = latest_acres[['CPLX_INCIDENT_ID', 'REPORT_TO_DATE', 'ACRES']]\n",
    "\n",
    "# Show result\n",
    "print(latest_acres.head())\n",
    "\n",
    "plt.figure(figsize=(10, 4))\n",
    "sns.boxplot(x=latest_acres['ACRES'])\n",
    "#sns.histplot(c_daily['ACRES'], bins=30, kde=True)\n",
    "#plt.title('Histogram of ACRES')\n",
    "plt.xlabel('ACRES')\n",
    "plt.ylabel('Frequency')\n",
    "plt.grid(True)\n",
    "plt.show()"
   ]
  },
  {
   "cell_type": "code",
   "execution_count": null,
   "id": "a6575bf5",
   "metadata": {},
   "outputs": [],
   "source": [
    "#Top 10 biggest fires\n",
    "# Sort by acres burned (in descending order)\n",
    "top_10_biggest_fires = latest_acres.sort_values(by='ACRES', ascending=False).head(10)\n",
    "\n",
    "# Show the top 10 biggest fires and their acreage\n",
    "print(top_10_biggest_fires[['CPLX_INCIDENT_ID', 'ACRES']])"
   ]
  },
  {
   "cell_type": "code",
   "execution_count": null,
   "id": "4f094a74",
   "metadata": {},
   "outputs": [],
   "source": [
    "plt.figure(figsize=(10, 4))\n",
    "#sns.boxplot(x=c_daily['ACRES'])\n",
    "sns.histplot(latest_acres['ACRES'], bins=5)\n",
    "#plt.title('Histogram of ACRES')\n",
    "plt.xlabel('ACRES')\n",
    "plt.ylabel('Frequency')\n",
    "plt.grid(True)\n",
    "plt.show()"
   ]
  },
  {
   "cell_type": "code",
   "execution_count": null,
   "id": "40b27209",
   "metadata": {},
   "outputs": [],
   "source": [
    "c_daily.SUPPRESSION_STRATEGY.unique()"
   ]
  },
  {
   "cell_type": "code",
   "execution_count": null,
   "id": "3150587d",
   "metadata": {},
   "outputs": [],
   "source": [
    "plt.figure(figsize=(10, 4))\n",
    "sns.histplot(latest['SUPPRESSION_STRATEGY'], bins=30)\n",
    "#plt.title('Histogram of ACRES')\n",
    "#plt.xlabel('ACRES')\n",
    "#plt.ylabel('Frequency')\n",
    "plt.grid(True)\n",
    "plt.show()"
   ]
  },
  {
   "cell_type": "code",
   "execution_count": null,
   "id": "62375621",
   "metadata": {},
   "outputs": [],
   "source": [
    "i_ref.head()"
   ]
  },
  {
   "cell_type": "code",
   "execution_count": null,
   "id": "4d6b2522",
   "metadata": {},
   "outputs": [],
   "source": [
    "unique_counts = i_ref.nunique()\n",
    "\n",
    "# Print results nicely\n",
    "for column, count in unique_counts.items():\n",
    "    print(f\"{column}: {count} \")"
   ]
  }
 ],
 "metadata": {
  "kernelspec": {
   "display_name": "earth-analytics-python",
   "language": "python",
   "name": "python3"
  },
  "language_info": {
   "codemirror_mode": {
    "name": "ipython",
    "version": 3
   },
   "file_extension": ".py",
   "mimetype": "text/x-python",
   "name": "python",
   "nbconvert_exporter": "python",
   "pygments_lexer": "ipython3",
   "version": "3.11.10"
  }
 },
 "nbformat": 4,
 "nbformat_minor": 5
}
