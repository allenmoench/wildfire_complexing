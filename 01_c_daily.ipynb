{
 "cells": [
  {
   "cell_type": "markdown",
   "id": "5554d6ef",
   "metadata": {},
   "source": [
    "# Exploratory Data Analysis: c_summary, c_daily, i_fod, and i_ref.\n",
    "\n",
    "This notebook explores the data given to us by our partner, Lise Ann St. Denis of the Colorado-Wyoming Resilience Engine. In reviewing the datasets, we will examine the types of data and the nubmber of records, and we will perform some initial statistical analysis."
   ]
  },
  {
   "cell_type": "code",
   "execution_count": 1,
   "id": "f8bee648",
   "metadata": {},
   "outputs": [],
   "source": [
    "# import libraries\n",
    "import pandas as pd\n",
    "import seaborn as sns\n",
    "import matplotlib.pyplot as plt\n",
    "\n"
   ]
  },
  {
   "cell_type": "code",
   "execution_count": 2,
   "id": "e3102f80",
   "metadata": {},
   "outputs": [],
   "source": [
    "# drive.mount('/content/drive', force_remount=True)\n"
   ]
  },
  {
   "cell_type": "code",
   "execution_count": 3,
   "id": "b4c32301",
   "metadata": {},
   "outputs": [
    {
     "name": "stderr",
     "output_type": "stream",
     "text": [
      "C:\\Users\\moenc\\AppData\\Local\\Temp\\ipykernel_28768\\2950357163.py:2: DtypeWarning: Columns (1,26,28,35,36,37,38,44,45) have mixed types. Specify dtype option on import or set low_memory=False.\n",
      "  i_fod = pd.read_csv(\"ics209plus-wf-incidents-fod-draft_1999to2023.csv\")\n",
      "C:\\Users\\moenc\\AppData\\Local\\Temp\\ipykernel_28768\\2950357163.py:3: DtypeWarning: Columns (42,51,52,53,54,55,61) have mixed types. Specify dtype option on import or set low_memory=False.\n",
      "  i_ref = pd.read_csv(\"ics209plus-wf_incidents-reference_2014to2023.csv\")\n"
     ]
    }
   ],
   "source": [
    "# Load CSV files and assign to variables\n",
    "i_fod = pd.read_csv(\"ics209plus-wf-incidents-fod-draft_1999to2023.csv\")\n",
    "i_ref = pd.read_csv(\"ics209plus-wf_incidents-reference_2014to2023.csv\")\n",
    "c_daily = pd.read_csv(\"ics209plus-wf_complex-assoc-daily_2014to2023-draft.csv\")\n",
    "c_summary = pd.read_csv(\"ics209plus-wf-complex-summary-draft_2014to2023.csv\")"
   ]
  },
  {
   "cell_type": "code",
   "execution_count": 4,
   "id": "cb7feac3",
   "metadata": {},
   "outputs": [],
   "source": [
    "from IPython.display import display, HTML\n",
    "\n",
    "def show_df(df, height=400):\n",
    "    \"\"\"Display a scrollable HTML table of the DataFrame or a GroupBy object.\"\"\"\n",
    "\n",
    "    # If the object is a GroupBy object, first apply an aggregation (e.g., count, sum, mean)\n",
    "    if isinstance(df, pd.core.groupby.DataFrameGroupBy):\n",
    "        # Here we apply a count aggregation, but you can change it to other aggregations like sum, mean, etc.\n",
    "        df = df.size().reset_index(name='count')\n",
    "\n",
    "    # Display the DataFrame in a scrollable HTML format\n",
    "    display(HTML(f\"\"\"\n",
    "    <div style=\"height:{height}px; overflow:auto\">\n",
    "        {df.to_html(max_rows=None, max_cols=None)}\n",
    "    </div>\n",
    "    \"\"\"))"
   ]
  },
  {
   "cell_type": "code",
   "execution_count": null,
   "id": "a5cd010b",
   "metadata": {},
   "outputs": [],
   "source": []
  },
  {
   "cell_type": "code",
   "execution_count": 5,
   "id": "2634d297",
   "metadata": {},
   "outputs": [],
   "source": [
    "# Comment these out depending on who is running the code.\n",
    "# Sara's filepaths\n",
    "# filepath1 = '/content/drive/MyDrive/Earth Analytics ICS209/ics209plus-wf_complex-assoc-daily_2014to2023-draft.csv'\n",
    "# filepath2 = '/content/drive/MyDrive/Earth Analytics ICS209/ics209plus-wf_incidents-reference_2014to2023.csv'\n",
    "# filepath3 = '/content/drive/MyDrive/Earth Analytics ICS209/ics209plus-wf-complex-summary-draft_2014to2023.csv'\n",
    "# filepath4 = '/content/drive/MyDrive/Earth Analytics ICS209/ics209plus-wf-incidents-fod-draft_1999to2023.csv'\n"
   ]
  },
  {
   "cell_type": "code",
   "execution_count": 6,
   "id": "79a7ff01",
   "metadata": {},
   "outputs": [],
   "source": [
    "# c_daily = pd.read_csv(filepath1)\n",
    "# i_ref = pd.read_csv(filepath2)\n",
    "# c_summary = pd.read_csv(filepath3)\n",
    "# i_fod = pd.read_csv(filepath4)\n"
   ]
  },
  {
   "cell_type": "code",
   "execution_count": 7,
   "id": "8a62e26e",
   "metadata": {},
   "outputs": [
    {
     "data": {
      "text/html": [
       "<div>\n",
       "<style scoped>\n",
       "    .dataframe tbody tr th:only-of-type {\n",
       "        vertical-align: middle;\n",
       "    }\n",
       "\n",
       "    .dataframe tbody tr th {\n",
       "        vertical-align: top;\n",
       "    }\n",
       "\n",
       "    .dataframe thead th {\n",
       "        text-align: right;\n",
       "    }\n",
       "</style>\n",
       "<table border=\"1\" class=\"dataframe\">\n",
       "  <thead>\n",
       "    <tr style=\"text-align: right;\">\n",
       "      <th></th>\n",
       "      <th>ACRES</th>\n",
       "      <th>CPLX_INC209R_IDENTIFIER</th>\n",
       "      <th>CPLX_INCIDENT_ID</th>\n",
       "      <th>CPLX_INCIDENT_NAME</th>\n",
       "      <th>CPLX_INC_IDENTIFIER</th>\n",
       "      <th>EST_IM_COST_TO_DATE</th>\n",
       "      <th>MEMBER_INC209R_EXISTS</th>\n",
       "      <th>MEMBER_INCIDENT_ID</th>\n",
       "      <th>MEMBER_INCIDENT_NAME</th>\n",
       "      <th>MEMBER_INC_IDENTIFIER</th>\n",
       "      <th>PCT_CONTAINED_COMPLETED</th>\n",
       "      <th>PCT_CONT_COMPL_UOM</th>\n",
       "      <th>REPORT_TO_DATE</th>\n",
       "      <th>SUPPRESSION_STRATEGY</th>\n",
       "    </tr>\n",
       "  </thead>\n",
       "  <tbody>\n",
       "    <tr>\n",
       "      <th>0</th>\n",
       "      <td>2520.0</td>\n",
       "      <td>402978.0</td>\n",
       "      <td>2014_402977_SAN DIEGO COMPLEX</td>\n",
       "      <td>SAN DIEGO COMPLEX</td>\n",
       "      <td>402977.0</td>\n",
       "      <td>3180978.0</td>\n",
       "      <td>True</td>\n",
       "      <td>2014_403676_COCOS</td>\n",
       "      <td>COCOS</td>\n",
       "      <td>403676.0</td>\n",
       "      <td>50.0</td>\n",
       "      <td>PCT</td>\n",
       "      <td>2014-05-17 08:00:00</td>\n",
       "      <td>NaN</td>\n",
       "    </tr>\n",
       "    <tr>\n",
       "      <th>1</th>\n",
       "      <td>386.0</td>\n",
       "      <td>402978.0</td>\n",
       "      <td>2014_402977_SAN DIEGO COMPLEX</td>\n",
       "      <td>SAN DIEGO COMPLEX</td>\n",
       "      <td>402977.0</td>\n",
       "      <td>NaN</td>\n",
       "      <td>True</td>\n",
       "      <td>2014_403706_HIGHWAY</td>\n",
       "      <td>HIGHWAY</td>\n",
       "      <td>403706.0</td>\n",
       "      <td>95.0</td>\n",
       "      <td>PCT</td>\n",
       "      <td>2014-05-17 08:00:00</td>\n",
       "      <td>NaN</td>\n",
       "    </tr>\n",
       "    <tr>\n",
       "      <th>2</th>\n",
       "      <td>2520.0</td>\n",
       "      <td>407209.0</td>\n",
       "      <td>2014_402977_SAN DIEGO COMPLEX</td>\n",
       "      <td>SAN DIEGO COMPLEX</td>\n",
       "      <td>402977.0</td>\n",
       "      <td>2996116.0</td>\n",
       "      <td>True</td>\n",
       "      <td>2014_403676_COCOS</td>\n",
       "      <td>COCOS</td>\n",
       "      <td>403676.0</td>\n",
       "      <td>70.0</td>\n",
       "      <td>PCT</td>\n",
       "      <td>2014-05-17 20:00:00</td>\n",
       "      <td>NaN</td>\n",
       "    </tr>\n",
       "    <tr>\n",
       "      <th>3</th>\n",
       "      <td>386.0</td>\n",
       "      <td>407209.0</td>\n",
       "      <td>2014_402977_SAN DIEGO COMPLEX</td>\n",
       "      <td>SAN DIEGO COMPLEX</td>\n",
       "      <td>402977.0</td>\n",
       "      <td>843796.0</td>\n",
       "      <td>True</td>\n",
       "      <td>2014_403706_HIGHWAY</td>\n",
       "      <td>HIGHWAY</td>\n",
       "      <td>403706.0</td>\n",
       "      <td>100.0</td>\n",
       "      <td>PCT</td>\n",
       "      <td>2014-05-17 20:00:00</td>\n",
       "      <td>NaN</td>\n",
       "    </tr>\n",
       "    <tr>\n",
       "      <th>4</th>\n",
       "      <td>NaN</td>\n",
       "      <td>407209.0</td>\n",
       "      <td>2014_402977_SAN DIEGO COMPLEX</td>\n",
       "      <td>SAN DIEGO COMPLEX</td>\n",
       "      <td>402977.0</td>\n",
       "      <td>1366967.0</td>\n",
       "      <td>True</td>\n",
       "      <td>2014_402977_SAN DIEGO COMPLEX</td>\n",
       "      <td>SAN DIEGO COMPLEX</td>\n",
       "      <td>402977.0</td>\n",
       "      <td>70.0</td>\n",
       "      <td>PCT</td>\n",
       "      <td>2014-05-17 20:00:00</td>\n",
       "      <td>NaN</td>\n",
       "    </tr>\n",
       "  </tbody>\n",
       "</table>\n",
       "</div>"
      ],
      "text/plain": [
       "    ACRES  CPLX_INC209R_IDENTIFIER               CPLX_INCIDENT_ID  \\\n",
       "0  2520.0                 402978.0  2014_402977_SAN DIEGO COMPLEX   \n",
       "1   386.0                 402978.0  2014_402977_SAN DIEGO COMPLEX   \n",
       "2  2520.0                 407209.0  2014_402977_SAN DIEGO COMPLEX   \n",
       "3   386.0                 407209.0  2014_402977_SAN DIEGO COMPLEX   \n",
       "4     NaN                 407209.0  2014_402977_SAN DIEGO COMPLEX   \n",
       "\n",
       "  CPLX_INCIDENT_NAME  CPLX_INC_IDENTIFIER  EST_IM_COST_TO_DATE  \\\n",
       "0  SAN DIEGO COMPLEX             402977.0            3180978.0   \n",
       "1  SAN DIEGO COMPLEX             402977.0                  NaN   \n",
       "2  SAN DIEGO COMPLEX             402977.0            2996116.0   \n",
       "3  SAN DIEGO COMPLEX             402977.0             843796.0   \n",
       "4  SAN DIEGO COMPLEX             402977.0            1366967.0   \n",
       "\n",
       "   MEMBER_INC209R_EXISTS             MEMBER_INCIDENT_ID MEMBER_INCIDENT_NAME  \\\n",
       "0                   True              2014_403676_COCOS                COCOS   \n",
       "1                   True            2014_403706_HIGHWAY              HIGHWAY   \n",
       "2                   True              2014_403676_COCOS                COCOS   \n",
       "3                   True            2014_403706_HIGHWAY              HIGHWAY   \n",
       "4                   True  2014_402977_SAN DIEGO COMPLEX    SAN DIEGO COMPLEX   \n",
       "\n",
       "   MEMBER_INC_IDENTIFIER  PCT_CONTAINED_COMPLETED PCT_CONT_COMPL_UOM  \\\n",
       "0               403676.0                     50.0                PCT   \n",
       "1               403706.0                     95.0                PCT   \n",
       "2               403676.0                     70.0                PCT   \n",
       "3               403706.0                    100.0                PCT   \n",
       "4               402977.0                     70.0                PCT   \n",
       "\n",
       "        REPORT_TO_DATE SUPPRESSION_STRATEGY  \n",
       "0  2014-05-17 08:00:00                  NaN  \n",
       "1  2014-05-17 08:00:00                  NaN  \n",
       "2  2014-05-17 20:00:00                  NaN  \n",
       "3  2014-05-17 20:00:00                  NaN  \n",
       "4  2014-05-17 20:00:00                  NaN  "
      ]
     },
     "execution_count": 7,
     "metadata": {},
     "output_type": "execute_result"
    }
   ],
   "source": [
    "c_daily.head()\n",
    "#Multiple entries per fire means we need to group by IDs to do any kind of meaningful statistical analysis or visualization."
   ]
  },
  {
   "cell_type": "code",
   "execution_count": 8,
   "id": "ccfde76e",
   "metadata": {},
   "outputs": [
    {
     "data": {
      "text/plain": [
       "Index(['ACRES', 'CPLX_INC209R_IDENTIFIER', 'CPLX_INCIDENT_ID',\n",
       "       'CPLX_INCIDENT_NAME', 'CPLX_INC_IDENTIFIER', 'EST_IM_COST_TO_DATE',\n",
       "       'MEMBER_INC209R_EXISTS', 'MEMBER_INCIDENT_ID', 'MEMBER_INCIDENT_NAME',\n",
       "       'MEMBER_INC_IDENTIFIER', 'PCT_CONTAINED_COMPLETED',\n",
       "       'PCT_CONT_COMPL_UOM', 'REPORT_TO_DATE', 'SUPPRESSION_STRATEGY'],\n",
       "      dtype='object')"
      ]
     },
     "execution_count": 8,
     "metadata": {},
     "output_type": "execute_result"
    }
   ],
   "source": [
    "\n",
    "c_daily.columns"
   ]
  },
  {
   "cell_type": "code",
   "execution_count": 9,
   "id": "04f79cd9",
   "metadata": {},
   "outputs": [
    {
     "data": {
      "text/html": [
       "<div>\n",
       "<style scoped>\n",
       "    .dataframe tbody tr th:only-of-type {\n",
       "        vertical-align: middle;\n",
       "    }\n",
       "\n",
       "    .dataframe tbody tr th {\n",
       "        vertical-align: top;\n",
       "    }\n",
       "\n",
       "    .dataframe thead th {\n",
       "        text-align: right;\n",
       "    }\n",
       "</style>\n",
       "<table border=\"1\" class=\"dataframe\">\n",
       "  <thead>\n",
       "    <tr style=\"text-align: right;\">\n",
       "      <th></th>\n",
       "      <th>ACRES</th>\n",
       "      <th>CPLX_INC209R_IDENTIFIER</th>\n",
       "      <th>CPLX_INC_IDENTIFIER</th>\n",
       "      <th>EST_IM_COST_TO_DATE</th>\n",
       "      <th>MEMBER_INC_IDENTIFIER</th>\n",
       "      <th>PCT_CONTAINED_COMPLETED</th>\n",
       "    </tr>\n",
       "  </thead>\n",
       "  <tbody>\n",
       "    <tr>\n",
       "      <th>count</th>\n",
       "      <td>4.110800e+04</td>\n",
       "      <td>4.211700e+04</td>\n",
       "      <td>4.211700e+04</td>\n",
       "      <td>1.391300e+04</td>\n",
       "      <td>4.211700e+04</td>\n",
       "      <td>38898.000000</td>\n",
       "    </tr>\n",
       "    <tr>\n",
       "      <th>mean</th>\n",
       "      <td>1.139432e+04</td>\n",
       "      <td>9.557157e+06</td>\n",
       "      <td>9.550248e+06</td>\n",
       "      <td>1.258301e+07</td>\n",
       "      <td>9.545191e+06</td>\n",
       "      <td>59.476078</td>\n",
       "    </tr>\n",
       "    <tr>\n",
       "      <th>std</th>\n",
       "      <td>4.584479e+04</td>\n",
       "      <td>5.001224e+06</td>\n",
       "      <td>5.010649e+06</td>\n",
       "      <td>3.866945e+07</td>\n",
       "      <td>5.007593e+06</td>\n",
       "      <td>44.989481</td>\n",
       "    </tr>\n",
       "    <tr>\n",
       "      <th>min</th>\n",
       "      <td>0.000000e+00</td>\n",
       "      <td>4.029780e+05</td>\n",
       "      <td>4.029770e+05</td>\n",
       "      <td>0.000000e+00</td>\n",
       "      <td>4.005030e+05</td>\n",
       "      <td>0.000000</td>\n",
       "    </tr>\n",
       "    <tr>\n",
       "      <th>25%</th>\n",
       "      <td>1.000000e+00</td>\n",
       "      <td>2.933045e+06</td>\n",
       "      <td>2.931055e+06</td>\n",
       "      <td>3.000000e+04</td>\n",
       "      <td>2.925193e+06</td>\n",
       "      <td>0.000000</td>\n",
       "    </tr>\n",
       "    <tr>\n",
       "      <th>50%</th>\n",
       "      <td>1.420000e+02</td>\n",
       "      <td>1.186637e+07</td>\n",
       "      <td>1.186597e+07</td>\n",
       "      <td>7.000000e+05</td>\n",
       "      <td>1.183010e+07</td>\n",
       "      <td>90.000000</td>\n",
       "    </tr>\n",
       "    <tr>\n",
       "      <th>75%</th>\n",
       "      <td>2.678000e+03</td>\n",
       "      <td>1.296330e+07</td>\n",
       "      <td>1.295877e+07</td>\n",
       "      <td>7.866249e+06</td>\n",
       "      <td>1.297025e+07</td>\n",
       "      <td>100.000000</td>\n",
       "    </tr>\n",
       "    <tr>\n",
       "      <th>max</th>\n",
       "      <td>1.032648e+06</td>\n",
       "      <td>1.611716e+07</td>\n",
       "      <td>1.611592e+07</td>\n",
       "      <td>4.944015e+08</td>\n",
       "      <td>1.611871e+07</td>\n",
       "      <td>404.000000</td>\n",
       "    </tr>\n",
       "  </tbody>\n",
       "</table>\n",
       "</div>"
      ],
      "text/plain": [
       "              ACRES  CPLX_INC209R_IDENTIFIER  CPLX_INC_IDENTIFIER  \\\n",
       "count  4.110800e+04             4.211700e+04         4.211700e+04   \n",
       "mean   1.139432e+04             9.557157e+06         9.550248e+06   \n",
       "std    4.584479e+04             5.001224e+06         5.010649e+06   \n",
       "min    0.000000e+00             4.029780e+05         4.029770e+05   \n",
       "25%    1.000000e+00             2.933045e+06         2.931055e+06   \n",
       "50%    1.420000e+02             1.186637e+07         1.186597e+07   \n",
       "75%    2.678000e+03             1.296330e+07         1.295877e+07   \n",
       "max    1.032648e+06             1.611716e+07         1.611592e+07   \n",
       "\n",
       "       EST_IM_COST_TO_DATE  MEMBER_INC_IDENTIFIER  PCT_CONTAINED_COMPLETED  \n",
       "count         1.391300e+04           4.211700e+04             38898.000000  \n",
       "mean          1.258301e+07           9.545191e+06                59.476078  \n",
       "std           3.866945e+07           5.007593e+06                44.989481  \n",
       "min           0.000000e+00           4.005030e+05                 0.000000  \n",
       "25%           3.000000e+04           2.925193e+06                 0.000000  \n",
       "50%           7.000000e+05           1.183010e+07                90.000000  \n",
       "75%           7.866249e+06           1.297025e+07               100.000000  \n",
       "max           4.944015e+08           1.611871e+07               404.000000  "
      ]
     },
     "execution_count": 9,
     "metadata": {},
     "output_type": "execute_result"
    }
   ],
   "source": [
    "c_daily.describe()"
   ]
  },
  {
   "cell_type": "code",
   "execution_count": 10,
   "id": "c466e989",
   "metadata": {},
   "outputs": [
    {
     "name": "stdout",
     "output_type": "stream",
     "text": [
      "<class 'pandas.core.frame.DataFrame'>\n",
      "RangeIndex: 42117 entries, 0 to 42116\n",
      "Data columns (total 14 columns):\n",
      " #   Column                   Non-Null Count  Dtype  \n",
      "---  ------                   --------------  -----  \n",
      " 0   ACRES                    41108 non-null  float64\n",
      " 1   CPLX_INC209R_IDENTIFIER  42117 non-null  float64\n",
      " 2   CPLX_INCIDENT_ID         42117 non-null  object \n",
      " 3   CPLX_INCIDENT_NAME       42117 non-null  object \n",
      " 4   CPLX_INC_IDENTIFIER      42117 non-null  float64\n",
      " 5   EST_IM_COST_TO_DATE      13913 non-null  float64\n",
      " 6   MEMBER_INC209R_EXISTS    42117 non-null  bool   \n",
      " 7   MEMBER_INCIDENT_ID       42117 non-null  object \n",
      " 8   MEMBER_INCIDENT_NAME     42117 non-null  object \n",
      " 9   MEMBER_INC_IDENTIFIER    42117 non-null  float64\n",
      " 10  PCT_CONTAINED_COMPLETED  38898 non-null  float64\n",
      " 11  PCT_CONT_COMPL_UOM       42069 non-null  object \n",
      " 12  REPORT_TO_DATE           42117 non-null  object \n",
      " 13  SUPPRESSION_STRATEGY     35375 non-null  object \n",
      "dtypes: bool(1), float64(6), object(7)\n",
      "memory usage: 4.2+ MB\n"
     ]
    }
   ],
   "source": [
    "c_daily.info()"
   ]
  },
  {
   "cell_type": "code",
   "execution_count": 11,
   "id": "05ed8692",
   "metadata": {},
   "outputs": [
    {
     "name": "stdout",
     "output_type": "stream",
     "text": [
      "ACRES: 5111 \n",
      "CPLX_INC209R_IDENTIFIER: 6622 \n",
      "CPLX_INCIDENT_ID: 233 \n",
      "CPLX_INCIDENT_NAME: 225 \n",
      "CPLX_INC_IDENTIFIER: 233 \n",
      "EST_IM_COST_TO_DATE: 6072 \n",
      "MEMBER_INC209R_EXISTS: 2 \n",
      "MEMBER_INCIDENT_ID: 1376 \n",
      "MEMBER_INCIDENT_NAME: 1273 \n",
      "MEMBER_INC_IDENTIFIER: 1376 \n",
      "PCT_CONTAINED_COMPLETED: 121 \n",
      "PCT_CONT_COMPL_UOM: 2 \n",
      "REPORT_TO_DATE: 4687 \n",
      "SUPPRESSION_STRATEGY: 4 \n"
     ]
    }
   ],
   "source": [
    "unique_counts = c_daily.nunique()\n",
    "\n",
    "# Print results nicely\n",
    "for column, count in unique_counts.items():\n",
    "    print(f\"{column}: {count} \")"
   ]
  },
  {
   "cell_type": "code",
   "execution_count": 12,
   "id": "5148be2c",
   "metadata": {},
   "outputs": [],
   "source": [
    "#change the date colum to datetime format\n",
    "c_daily['REPORT_TO_DATE'] = pd.to_datetime(c_daily['REPORT_TO_DATE'])"
   ]
  },
  {
   "cell_type": "code",
   "execution_count": 13,
   "id": "2dde153a",
   "metadata": {},
   "outputs": [
    {
     "name": "stdout",
     "output_type": "stream",
     "text": [
      "                 CPLX_INCIDENT_ID      REPORT_TO_DATE  EST_IM_COST_TO_DATE\n",
      "0   2014_402977_SAN DIEGO COMPLEX 2014-05-23 08:00:00            4193696.0\n",
      "1    2014_407445_BASILONE COMPLEX 2014-07-02 08:15:00                  NaN\n",
      "2  2014_571039_MODOC JULY COMPLEX 2014-07-09 08:00:00            2050000.0\n",
      "3         2014_580435_MGC COMPLEX 2014-07-10 08:15:00            1100000.0\n",
      "4     2014_634805_BUZZARD COMPLEX 2014-09-11 10:00:00                  NaN\n"
     ]
    }
   ],
   "source": [
    "latest_costs = c_daily.loc[c_daily.groupby('CPLX_INCIDENT_ID')['REPORT_TO_DATE'].idxmax()]\n",
    "latest_costs = latest_costs.reset_index(drop=True)\n",
    "\n",
    "# Keep only relevant columns\n",
    "latest_costs = latest_costs[['CPLX_INCIDENT_ID', 'REPORT_TO_DATE', 'EST_IM_COST_TO_DATE']]\n",
    "\n",
    "# Show result\n",
    "print(latest_costs.head())\n"
   ]
  },
  {
   "cell_type": "code",
   "execution_count": 14,
   "id": "628e019e",
   "metadata": {},
   "outputs": [
    {
     "name": "stdout",
     "output_type": "stream",
     "text": [
      "CPLX_INCIDENT_ID\n",
      "2020_11865970_NORTH COMPLEX                 2766\n",
      "2021_12958767_RIVER COMPLEX                 2134\n",
      "2017_7253911_MILLER COMPLEX                 1521\n",
      "2022_14514022_2022 SRF LIGHTNING COMPLEX    1290\n",
      "2021_12692752_COUGAR ROCK COMPLEX           1288\n",
      "2021_12965990_ROUGH PATCH COMPLEX           1158\n",
      "2021_12939299_STORM THEATRE COMPLEX         1123\n",
      "2020_11843929_AUGUST COMPLEX                1090\n",
      "2023_16060313_2023 SRF LIGHTNING COMPLEX    1042\n",
      "2021_12802924_STATELINE COMPLEX             1029\n",
      "Name: count, dtype: int64\n",
      "Number of incidents with more than 1 entry: 229\n"
     ]
    }
   ],
   "source": [
    "incident_counts = c_daily['CPLX_INCIDENT_ID'].value_counts()\n",
    "print(incident_counts.head(10))  # See the top few\n",
    "\n",
    "print(\"Number of incidents with more than 1 entry:\", (incident_counts > 1).sum())"
   ]
  },
  {
   "cell_type": "code",
   "execution_count": 15,
   "id": "9c1f5e8b",
   "metadata": {},
   "outputs": [
    {
     "data": {
      "image/png": "[encoded data removed]",
      "text/plain": [
       "<Figure size 800x400 with 1 Axes>"
      ]
     },
     "metadata": {},
     "output_type": "display_data"
    }
   ],
   "source": [
    "plt.figure(figsize=(8, 4))\n",
    "sns.boxplot(x=latest_costs['EST_IM_COST_TO_DATE'])\n",
    "#sns.histplot(c_daily['EST_IM_COST_TO_DATE'], bins=4)\n",
    "#plt.title('Box Plot of EST_IM_COST_TO_DATE')\n",
    "plt.xlabel('EST_IM_COST_TO_DATE')\n",
    "plt.grid(True)\n",
    "plt.show()"
   ]
  },
  {
   "cell_type": "code",
   "execution_count": 16,
   "id": "75d18110",
   "metadata": {},
   "outputs": [
    {
     "data": {
      "image/png": "[encoded data removed]",
      "text/plain": [
       "<Figure size 800x400 with 1 Axes>"
      ]
     },
     "metadata": {},
     "output_type": "display_data"
    }
   ],
   "source": [
    "plt.figure(figsize=(8, 4))\n",
    "sns.boxplot(x=c_daily['EST_IM_COST_TO_DATE'])\n",
    "#sns.histplot(c_daily['EST_IM_COST_TO_DATE'], bins=4)\n",
    "plt.title('Box Plot of EST_IM_COST_TO_DATE')\n",
    "plt.xlabel('EST_IM_COST_TO_DATE')\n",
    "plt.grid(True)\n",
    "plt.show()"
   ]
  },
  {
   "cell_type": "code",
   "execution_count": 17,
   "id": "108624c8",
   "metadata": {},
   "outputs": [
    {
     "name": "stdout",
     "output_type": "stream",
     "text": [
      "                 CPLX_INCIDENT_ID      REPORT_TO_DATE   ACRES\n",
      "0   2014_402977_SAN DIEGO COMPLEX 2014-05-23 08:00:00     NaN\n",
      "1    2014_407445_BASILONE COMPLEX 2014-07-02 08:15:00  5367.0\n",
      "2  2014_571039_MODOC JULY COMPLEX 2014-07-09 08:00:00  1469.0\n",
      "3         2014_580435_MGC COMPLEX 2014-07-10 08:15:00  1127.0\n",
      "4     2014_634805_BUZZARD COMPLEX 2014-09-11 10:00:00   728.0\n"
     ]
    },
    {
     "data": {
      "image/png": "[encoded data removed]",
      "text/plain": [
       "<Figure size 1000x400 with 1 Axes>"
      ]
     },
     "metadata": {},
     "output_type": "display_data"
    }
   ],
   "source": [
    "latest = c_daily.loc[c_daily.groupby('CPLX_INCIDENT_ID')['REPORT_TO_DATE'].idxmax()]\n",
    "latest_acres = latest.copy()\n",
    "latest_acres = latest_acres.reset_index(drop=True)\n",
    "\n",
    "# Keep only relevant columns\n",
    "latest_acres = latest_acres[['CPLX_INCIDENT_ID', 'REPORT_TO_DATE', 'ACRES']]\n",
    "\n",
    "# Show result\n",
    "print(latest_acres.head())\n",
    "\n",
    "plt.figure(figsize=(10, 4))\n",
    "sns.boxplot(x=latest_acres['ACRES'])\n",
    "#sns.histplot(c_daily['ACRES'], bins=30, kde=True)\n",
    "#plt.title('Histogram of ACRES')\n",
    "plt.xlabel('ACRES')\n",
    "plt.ylabel('Frequency')\n",
    "plt.grid(True)\n",
    "plt.show()"
   ]
  },
  {
   "cell_type": "code",
   "execution_count": 18,
   "id": "a6575bf5",
   "metadata": {},
   "outputs": [
    {
     "name": "stdout",
     "output_type": "stream",
     "text": [
      "                           CPLX_INCIDENT_ID      ACRES\n",
      "173  2020_11937412_AUGUST COMPLEX WEST ZONE  271421.00\n",
      "6               2014_638842_CARLTON COMPLEX  256108.00\n",
      "61           2015_2852141_TANANA AREA FIRES  183512.00\n",
      "163               2020_11801418_SQF COMPLEX  174178.00\n",
      "159        2020_11740185_RED SALMON COMPLEX  143891.00\n",
      "167            2020_11843929_AUGUST COMPLEX  140944.00\n",
      "152       2019_10715052_CHALKYITSIK COMPLEX  130768.00\n",
      "28           2014_809568_HAPPY CAMP COMPLEX  109439.00\n",
      "67        2015_2878511_GRIZZLY BEAR COMPLEX   80212.50\n",
      "185               2021_12828308_KNP COMPLEX   80102.75\n"
     ]
    }
   ],
   "source": [
    "#Top 10 biggest fires\n",
    "# Sort by acres burned (in descending order)\n",
    "top_10_biggest_fires = latest_acres.sort_values(by='ACRES', ascending=False).head(10)\n",
    "\n",
    "# Show the top 10 biggest fires and their acreage\n",
    "print(top_10_biggest_fires[['CPLX_INCIDENT_ID', 'ACRES']])"
   ]
  },
  {
   "cell_type": "code",
   "execution_count": 19,
   "id": "4f094a74",
   "metadata": {},
   "outputs": [
    {
     "data": {
      "image/png": "[encoded data removed]",
      "text/plain": [
       "<Figure size 1000x400 with 1 Axes>"
      ]
     },
     "metadata": {},
     "output_type": "display_data"
    }
   ],
   "source": [
    "plt.figure(figsize=(10, 4))\n",
    "#sns.boxplot(x=c_daily['ACRES'])\n",
    "sns.histplot(latest_acres['ACRES'], bins=5)\n",
    "#plt.title('Histogram of ACRES')\n",
    "plt.xlabel('ACRES')\n",
    "plt.ylabel('Frequency')\n",
    "plt.grid(True)\n",
    "plt.show()"
   ]
  },
  {
   "cell_type": "code",
   "execution_count": 20,
   "id": "40b27209",
   "metadata": {},
   "outputs": [
    {
     "data": {
      "text/plain": [
       "array([nan, 'Full Suppression', 'Confine', 'Point Zone Protection',\n",
       "       'Monitor'], dtype=object)"
      ]
     },
     "execution_count": 20,
     "metadata": {},
     "output_type": "execute_result"
    }
   ],
   "source": [
    "c_daily.SUPPRESSION_STRATEGY.unique()"
   ]
  },
  {
   "cell_type": "code",
   "execution_count": 21,
   "id": "3150587d",
   "metadata": {},
   "outputs": [
    {
     "data": {
      "image/png": "[encoded data removed]",
      "text/plain": [
       "<Figure size 1000x400 with 1 Axes>"
      ]
     },
     "metadata": {},
     "output_type": "display_data"
    }
   ],
   "source": [
    "plt.figure(figsize=(10, 4))\n",
    "sns.histplot(latest['SUPPRESSION_STRATEGY'], bins=30)\n",
    "#plt.title('Histogram of ACRES')\n",
    "#plt.xlabel('ACRES')\n",
    "#plt.ylabel('Frequency')\n",
    "plt.grid(True)\n",
    "plt.show()"
   ]
  },
  {
   "cell_type": "code",
   "execution_count": 22,
   "id": "62375621",
   "metadata": {},
   "outputs": [
    {
     "data": {
      "text/html": [
       "<div>\n",
       "<style scoped>\n",
       "    .dataframe tbody tr th:only-of-type {\n",
       "        vertical-align: middle;\n",
       "    }\n",
       "\n",
       "    .dataframe tbody tr th {\n",
       "        vertical-align: top;\n",
       "    }\n",
       "\n",
       "    .dataframe thead th {\n",
       "        text-align: right;\n",
       "    }\n",
       "</style>\n",
       "<table border=\"1\" class=\"dataframe\">\n",
       "  <thead>\n",
       "    <tr style=\"text-align: right;\">\n",
       "      <th></th>\n",
       "      <th>Unnamed: 0</th>\n",
       "      <th>ACRES</th>\n",
       "      <th>CAUSE</th>\n",
       "      <th>COMPLEX</th>\n",
       "      <th>COMPLEXITY_LEVEL</th>\n",
       "      <th>COMPLEXITY_LEVEL_NARR</th>\n",
       "      <th>CREATED_BY</th>\n",
       "      <th>CREATED_DATE</th>\n",
       "      <th>CY</th>\n",
       "      <th>DISCOVERY_DATE</th>\n",
       "      <th>...</th>\n",
       "      <th>POO_US_NGR_YCOORD</th>\n",
       "      <th>POO_US_NGR_ZONE</th>\n",
       "      <th>POO_UTM_EASTING</th>\n",
       "      <th>POO_UTM_NORTHING</th>\n",
       "      <th>POO_UTM_ZONE</th>\n",
       "      <th>PROT_UNIT_ID</th>\n",
       "      <th>PROT_UNIT_NAME</th>\n",
       "      <th>PROT_UNIT_TYPE</th>\n",
       "      <th>START_YEAR</th>\n",
       "      <th>UNIFIED_COMMAND</th>\n",
       "    </tr>\n",
       "  </thead>\n",
       "  <tbody>\n",
       "    <tr>\n",
       "      <th>0</th>\n",
       "      <td>0</td>\n",
       "      <td>1300.0</td>\n",
       "      <td>H</td>\n",
       "      <td>False</td>\n",
       "      <td>NaN</td>\n",
       "      <td>NaN</td>\n",
       "      <td>SIT209</td>\n",
       "      <td>2014-01-15 10:31:48</td>\n",
       "      <td>2014</td>\n",
       "      <td>2014-01-12 11:45:00</td>\n",
       "      <td>...</td>\n",
       "      <td>NaN</td>\n",
       "      <td>NaN</td>\n",
       "      <td>NaN</td>\n",
       "      <td>NaN</td>\n",
       "      <td>NaN</td>\n",
       "      <td>NaN</td>\n",
       "      <td>NaN</td>\n",
       "      <td>NaN</td>\n",
       "      <td>2014.0</td>\n",
       "      <td>NaN</td>\n",
       "    </tr>\n",
       "    <tr>\n",
       "      <th>1</th>\n",
       "      <td>1</td>\n",
       "      <td>400.0</td>\n",
       "      <td>H</td>\n",
       "      <td>False</td>\n",
       "      <td>NaN</td>\n",
       "      <td>NaN</td>\n",
       "      <td>SIT209</td>\n",
       "      <td>2014-01-15 11:05:06</td>\n",
       "      <td>2014</td>\n",
       "      <td>2014-01-12 14:00:00</td>\n",
       "      <td>...</td>\n",
       "      <td>NaN</td>\n",
       "      <td>NaN</td>\n",
       "      <td>NaN</td>\n",
       "      <td>NaN</td>\n",
       "      <td>NaN</td>\n",
       "      <td>NaN</td>\n",
       "      <td>NaN</td>\n",
       "      <td>NaN</td>\n",
       "      <td>2014.0</td>\n",
       "      <td>NaN</td>\n",
       "    </tr>\n",
       "    <tr>\n",
       "      <th>2</th>\n",
       "      <td>2</td>\n",
       "      <td>1612.0</td>\n",
       "      <td>L</td>\n",
       "      <td>False</td>\n",
       "      <td>NaN</td>\n",
       "      <td>NaN</td>\n",
       "      <td>SIT209</td>\n",
       "      <td>2014-01-15 19:32:24</td>\n",
       "      <td>2014</td>\n",
       "      <td>2014-01-14 10:45:00</td>\n",
       "      <td>...</td>\n",
       "      <td>NaN</td>\n",
       "      <td>NaN</td>\n",
       "      <td>NaN</td>\n",
       "      <td>NaN</td>\n",
       "      <td>NaN</td>\n",
       "      <td>NaN</td>\n",
       "      <td>NaN</td>\n",
       "      <td>NaN</td>\n",
       "      <td>2014.0</td>\n",
       "      <td>NaN</td>\n",
       "    </tr>\n",
       "    <tr>\n",
       "      <th>3</th>\n",
       "      <td>3</td>\n",
       "      <td>1.0</td>\n",
       "      <td>H</td>\n",
       "      <td>False</td>\n",
       "      <td>NaN</td>\n",
       "      <td>NaN</td>\n",
       "      <td>SIT209</td>\n",
       "      <td>2014-01-17 11:17:28</td>\n",
       "      <td>2014</td>\n",
       "      <td>2014-01-16 15:45:00</td>\n",
       "      <td>...</td>\n",
       "      <td>NaN</td>\n",
       "      <td>NaN</td>\n",
       "      <td>NaN</td>\n",
       "      <td>NaN</td>\n",
       "      <td>NaN</td>\n",
       "      <td>NaN</td>\n",
       "      <td>NaN</td>\n",
       "      <td>NaN</td>\n",
       "      <td>2014.0</td>\n",
       "      <td>NaN</td>\n",
       "    </tr>\n",
       "    <tr>\n",
       "      <th>4</th>\n",
       "      <td>4</td>\n",
       "      <td>40.0</td>\n",
       "      <td>U</td>\n",
       "      <td>False</td>\n",
       "      <td>NaN</td>\n",
       "      <td>NaN</td>\n",
       "      <td>SIT209</td>\n",
       "      <td>2014-01-17 12:29:20</td>\n",
       "      <td>2014</td>\n",
       "      <td>2014-01-16 14:30:00</td>\n",
       "      <td>...</td>\n",
       "      <td>NaN</td>\n",
       "      <td>NaN</td>\n",
       "      <td>NaN</td>\n",
       "      <td>NaN</td>\n",
       "      <td>NaN</td>\n",
       "      <td>NaN</td>\n",
       "      <td>NaN</td>\n",
       "      <td>NaN</td>\n",
       "      <td>2014.0</td>\n",
       "      <td>NaN</td>\n",
       "    </tr>\n",
       "  </tbody>\n",
       "</table>\n",
       "<p>5 rows × 62 columns</p>\n",
       "</div>"
      ],
      "text/plain": [
       "   Unnamed: 0   ACRES CAUSE  COMPLEX COMPLEXITY_LEVEL COMPLEXITY_LEVEL_NARR  \\\n",
       "0           0  1300.0     H    False              NaN                   NaN   \n",
       "1           1   400.0     H    False              NaN                   NaN   \n",
       "2           2  1612.0     L    False              NaN                   NaN   \n",
       "3           3     1.0     H    False              NaN                   NaN   \n",
       "4           4    40.0     U    False              NaN                   NaN   \n",
       "\n",
       "  CREATED_BY         CREATED_DATE    CY       DISCOVERY_DATE  ...  \\\n",
       "0     SIT209  2014-01-15 10:31:48  2014  2014-01-12 11:45:00  ...   \n",
       "1     SIT209  2014-01-15 11:05:06  2014  2014-01-12 14:00:00  ...   \n",
       "2     SIT209  2014-01-15 19:32:24  2014  2014-01-14 10:45:00  ...   \n",
       "3     SIT209  2014-01-17 11:17:28  2014  2014-01-16 15:45:00  ...   \n",
       "4     SIT209  2014-01-17 12:29:20  2014  2014-01-16 14:30:00  ...   \n",
       "\n",
       "   POO_US_NGR_YCOORD  POO_US_NGR_ZONE POO_UTM_EASTING POO_UTM_NORTHING  \\\n",
       "0                NaN              NaN             NaN              NaN   \n",
       "1                NaN              NaN             NaN              NaN   \n",
       "2                NaN              NaN             NaN              NaN   \n",
       "3                NaN              NaN             NaN              NaN   \n",
       "4                NaN              NaN             NaN              NaN   \n",
       "\n",
       "  POO_UTM_ZONE  PROT_UNIT_ID PROT_UNIT_NAME PROT_UNIT_TYPE  START_YEAR  \\\n",
       "0          NaN           NaN            NaN            NaN      2014.0   \n",
       "1          NaN           NaN            NaN            NaN      2014.0   \n",
       "2          NaN           NaN            NaN            NaN      2014.0   \n",
       "3          NaN           NaN            NaN            NaN      2014.0   \n",
       "4          NaN           NaN            NaN            NaN      2014.0   \n",
       "\n",
       "  UNIFIED_COMMAND  \n",
       "0             NaN  \n",
       "1             NaN  \n",
       "2             NaN  \n",
       "3             NaN  \n",
       "4             NaN  \n",
       "\n",
       "[5 rows x 62 columns]"
      ]
     },
     "execution_count": 22,
     "metadata": {},
     "output_type": "execute_result"
    }
   ],
   "source": [
    "i_ref.head()"
   ]
  },
  {
   "cell_type": "code",
   "execution_count": 23,
   "id": "4d6b2522",
   "metadata": {},
   "outputs": [
    {
     "name": "stdout",
     "output_type": "stream",
     "text": [
      "Unnamed: 0: 16963 \n",
      "ACRES: 5553 \n",
      "CAUSE: 4 \n",
      "COMPLEX: 2 \n",
      "COMPLEXITY_LEVEL: 5 \n",
      "COMPLEXITY_LEVEL_NARR: 1109 \n",
      "CREATED_BY: 170 \n",
      "CREATED_DATE: 16256 \n",
      "CY: 10 \n",
      "DISCOVERY_DATE: 16307 \n",
      "DONWCGU_PROT_UNIT_IDENTIFIER: 3279 \n",
      "EST_IM_COST_TO_DATE: 4255 \n",
      "EXT_SYSTEM_LAST_MODIFIED_BY: 18 \n",
      "EXT_SYSTEM_LAST_MODIFIED_DATE: 14809 \n",
      "FIRECODE: 8817 \n",
      "INCIDENT_AREA: 5543 \n",
      "INCIDENT_COMMANDERS_NARR: 10081 \n",
      "INCIDENT_ID: 16963 \n",
      "INCIDENT_IDENTIFIER: 16963 \n",
      "INCIDENT_NAME: 13664 \n",
      "INCIDENT_NUMBER: 10349 \n",
      "INCTYP_ABBREVIATION: 17 \n",
      "INC_AREA_UOM: 2 \n",
      "INC_MGMT_ORG: 9 \n",
      "IRWIN_IDENTIFIER: 16088 \n",
      "LAST_MODIFIED_BY: 7 \n",
      "LAST_MODIFIED_DATE: 15738 \n",
      "LOCAL_TIMEZONE: 19 \n",
      "NWCG_OWN_UNIT_IDENTIFIER: 3292 \n",
      "NWCG_PROT_UNIT_IDENTIFIER: 3031 \n",
      "OWN_UNIT_ID: 1010 \n",
      "OWN_UNIT_NAME: 1041 \n",
      "OWN_UNIT_TYPE: 11 \n",
      "PCT_CONTAINED_COMPLETED: 83 \n",
      "PCT_CONT_COMPL_UOM: 1 \n",
      "POO_CITY: 4125 \n",
      "POO_COUNTY_CODE: 256 \n",
      "POO_DONWCGU_OWN_IDENTIFIER: 3504 \n",
      "POO_LATITUDE: 9750 \n",
      "POO_LD_PM: 41 \n",
      "POO_LD_QTR_QTR_QTR_QTR_SEC: 0 \n",
      "POO_LD_QTR_QTR_QTR_SEC: 0 \n",
      "POO_LD_QTR_QTR_SEC: 4 \n",
      "POO_LD_QTR_SEC: 4 \n",
      "POO_LD_RGE: 497 \n",
      "POO_LD_SEC: 40 \n",
      "POO_LD_TWP: 412 \n",
      "POO_LONGITUDE: 11429 \n",
      "POO_SHORT_LOCATION_DESC: 15335 \n",
      "POO_STATE_ABBREV: 51 \n",
      "POO_STATE_NAME: 51 \n",
      "POO_US_NGR_XCOORD: 469 \n",
      "POO_US_NGR_YCOORD: 469 \n",
      "POO_US_NGR_ZONE: 205 \n",
      "POO_UTM_EASTING: 533 \n",
      "POO_UTM_NORTHING: 532 \n",
      "POO_UTM_ZONE: 16 \n",
      "PROT_UNIT_ID: 899 \n",
      "PROT_UNIT_NAME: 942 \n",
      "PROT_UNIT_TYPE: 11 \n",
      "START_YEAR: 10 \n",
      "UNIFIED_COMMAND: 2 \n"
     ]
    }
   ],
   "source": [
    "unique_counts = i_ref.nunique()\n",
    "\n",
    "# Print results nicely\n",
    "for column, count in unique_counts.items():\n",
    "    print(f\"{column}: {count} \")"
   ]
  }
 ],
 "metadata": {
  "kernelspec": {
   "display_name": "earth-analytics-python",
   "language": "python",
   "name": "python3"
  },
  "language_info": {
   "codemirror_mode": {
    "name": "ipython",
    "version": 3
   },
   "file_extension": ".py",
   "mimetype": "text/x-python",
   "name": "python",
   "nbconvert_exporter": "python",
   "pygments_lexer": "ipython3",
   "version": "3.11.10"
  }
 },
 "nbformat": 4,
 "nbformat_minor": 5
}
