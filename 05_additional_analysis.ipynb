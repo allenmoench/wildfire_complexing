{
 "cells": [
  {
   "cell_type": "code",
   "execution_count": null,
   "id": "0910ead6",
   "metadata": {},
   "outputs": [],
   "source": [
    "show_df(c_daily.head(30))"
   ]
  },
  {
   "cell_type": "code",
   "execution_count": null,
   "id": "f14eee05",
   "metadata": {},
   "outputs": [],
   "source": [
    "test = c_daily[c_daily[\"MEMBER_INC_IDENTIFIER\"]== 11885771]\n",
    "test"
   ]
  },
  {
   "cell_type": "code",
   "execution_count": null,
   "id": "d6fb0fae",
   "metadata": {},
   "outputs": [],
   "source": [
    "test[\"CPLX_INCIDENT_NAME\"].value_counts()"
   ]
  },
  {
   "cell_type": "code",
   "execution_count": null,
   "id": "659fb66c",
   "metadata": {},
   "outputs": [],
   "source": [
    "august_complex = c_daily[c_daily[\"CPLX_INCIDENT_NAME\"]== \"AUGUST COMPLEX\"]"
   ]
  },
  {
   "cell_type": "markdown",
   "id": "3db0105e",
   "metadata": {},
   "source": [
    "## Additional questions for analysis\n",
    "\n",
    "- are the increases in metrics such as structures damaged, incident management cost, and areas burned statistically significant over time?\n",
    "\n",
    "- Does each recorded member fire only have one 'parent' complex? Or are some member fires recorded twice due to being switched between complexes?\n",
    "\n",
    "- Are large fires more likely to be complexed? Use \"complex True / False\" column."
   ]
  }
 ],
 "metadata": {
  "language_info": {
   "name": "python"
  }
 },
 "nbformat": 4,
 "nbformat_minor": 5
}
